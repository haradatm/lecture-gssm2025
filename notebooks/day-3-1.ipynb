{
 "cells": [
  {
   "cell_type": "markdown",
   "metadata": {},
   "source": [
    "# day 3-1"
   ]
  },
  {
   "cell_type": "markdown",
   "metadata": {},
   "source": [
    "このノートブックの実行例は[こちら(HTML版)](lecture-gssm2025/notebooks-sample/day-3-1.html)で確認できます"
   ]
  },
  {
   "cell_type": "markdown",
   "metadata": {},
   "source": [
    "---"
   ]
  },
  {
   "cell_type": "markdown",
   "metadata": {
    "id": "kwfbGH3ZkhHq"
   },
   "source": [
    "## 0. 準備"
   ]
  },
  {
   "cell_type": "markdown",
   "metadata": {
    "id": "cqjkmFVZnWOo"
   },
   "source": [
    "### 0.1 必要なパッケージのインストール"
   ]
  },
  {
   "cell_type": "code",
   "execution_count": null,
   "metadata": {
    "id": "aIDLhBmHIX61"
   },
   "outputs": [],
   "source": [
    "%%capture\n",
    "!sudo apt-get update\n",
    "!sudo apt-get install -y automake autoconf perl libtool\n",
    "!sudo autoreconf -f -i"
   ]
  },
  {
   "cell_type": "markdown",
   "metadata": {},
   "source": [
    "教材のダウンロード"
   ]
  },
  {
   "cell_type": "code",
   "execution_count": null,
   "metadata": {},
   "outputs": [],
   "source": [
    "!git clone https://github.com/haradatm/lecture-gssm2025"
   ]
  },
  {
   "cell_type": "markdown",
   "metadata": {
    "id": "UjUu0Nn6clwU"
   },
   "source": [
    "### 0.2 MeCab インストール"
   ]
  },
  {
   "cell_type": "code",
   "execution_count": null,
   "metadata": {
    "colab": {
     "base_uri": "https://localhost:8080/"
    },
    "id": "PwriV8EQOR9v",
    "outputId": "21998021-5c1c-488d-cccb-fe9d3514fa5b"
   },
   "outputs": [],
   "source": [
    "!bash lecture-gssm2025/scripts/install_mecab.sh >> install_mecab.log 2>&1\n",
    "!tail -n 1 install_mecab.log"
   ]
  },
  {
   "cell_type": "markdown",
   "metadata": {
    "id": "Vdr1DA_fePjv"
   },
   "source": [
    "### 0.3 CaboCha インストール"
   ]
  },
  {
   "cell_type": "code",
   "execution_count": null,
   "metadata": {
    "colab": {
     "base_uri": "https://localhost:8080/"
    },
    "id": "GMAKh7fch1t2",
    "outputId": "a15a31b9-b853-425f-af98-98f13ac3c543"
   },
   "outputs": [],
   "source": [
    "!bash lecture-gssm2025/scripts/install_cabocha.sh >> install_cabocha.log 2>&1\n",
    "!tail -n 1 install_cabocha.log"
   ]
  },
  {
   "cell_type": "markdown",
   "metadata": {
    "id": "7N4sxVcPh57W"
   },
   "source": [
    "### 0.4 セッションの再起動"
   ]
  },
  {
   "cell_type": "code",
   "execution_count": null,
   "metadata": {
    "id": "_-vGq-LUb8qX"
   },
   "outputs": [],
   "source": [
    "import os\n",
    "os.kill(os.getpid(), 9)"
   ]
  },
  {
   "cell_type": "markdown",
   "metadata": {
    "id": "oin-iShtlGKL"
   },
   "source": [
    "### 0.5 動作確認"
   ]
  },
  {
   "cell_type": "code",
   "execution_count": 1,
   "metadata": {
    "colab": {
     "base_uri": "https://localhost:8080/"
    },
    "id": "T96Bd4FXWzDD",
    "outputId": "7bde6e87-a3c2-4fff-c775-2da79269fca0"
   },
   "outputs": [
    {
     "name": "stdout",
     "output_type": "stream",
     "text": [
      "今日\t名詞,副詞可能,*,*,*,*,今日,キョウ,キョー\n",
      "は\t助詞,係助詞,*,*,*,*,は,ハ,ワ\n",
      "いい\t形容詞,自立,*,*,形容詞・イイ,基本形,いい,イイ,イイ\n",
      "天気\t名詞,一般,*,*,*,*,天気,テンキ,テンキ\n",
      "です\t助動詞,*,*,*,特殊・デス,基本形,です,デス,デス\n",
      "EOS\n",
      "\n"
     ]
    }
   ],
   "source": [
    "import MeCab\n",
    "tagger = MeCab.Tagger(\"-r ./tools/usr/local/etc/mecabrc\")\n",
    "print(tagger.parse(\"今日はいい天気です\"))"
   ]
  },
  {
   "cell_type": "code",
   "execution_count": 2,
   "metadata": {
    "colab": {
     "base_uri": "https://localhost:8080/"
    },
    "id": "B-RZrYKhjNwm",
    "outputId": "cc586642-c4fd-41c0-e8cb-90843acaa38f"
   },
   "outputs": [
    {
     "name": "stdout",
     "output_type": "stream",
     "text": [
      "* 0 2D 0/1 -1.041733\n",
      "今日\t名詞,副詞可能,*,*,*,*,今日,キョウ,キョー\n",
      "は\t助詞,係助詞,*,*,*,*,は,ハ,ワ\n",
      "* 1 2D 0/0 -1.041733\n",
      "いい\t形容詞,自立,*,*,形容詞・イイ,基本形,いい,イイ,イイ\n",
      "* 2 -1D 0/1 0.000000\n",
      "天気\t名詞,一般,*,*,*,*,天気,テンキ,テンキ\n",
      "です\t助動詞,*,*,*,特殊・デス,基本形,です,デス,デス\n",
      "EOS\n",
      "\n"
     ]
    }
   ],
   "source": [
    "import CaboCha\n",
    "cp = CaboCha.Parser(\"-r ./tools/usr/local/etc/cabocharc\")\n",
    "tree = cp.parse(\"今日はいい天気です\")\n",
    "print(tree.toString(CaboCha.FORMAT_LATTICE))"
   ]
  },
  {
   "cell_type": "markdown",
   "metadata": {
    "id": "UEwkAif4nmv4"
   },
   "source": [
    "\n",
    "\n",
    "---\n",
    "\n"
   ]
  },
  {
   "cell_type": "markdown",
   "metadata": {
    "id": "sKtEfp9Onx1O"
   },
   "source": [
    "## 1. テキスト解析 (1)"
   ]
  },
  {
   "cell_type": "markdown",
   "metadata": {
    "id": "5zDzrhDfoE16"
   },
   "source": [
    "### 1.1 形態素解析"
   ]
  },
  {
   "cell_type": "markdown",
   "metadata": {
    "id": "_ISG0hunotkr"
   },
   "source": [
    "(1) そのまま実行する"
   ]
  },
  {
   "cell_type": "code",
   "execution_count": null,
   "metadata": {
    "colab": {
     "base_uri": "https://localhost:8080/"
    },
    "id": "Log57tQanrNV",
    "outputId": "35adfad7-e34c-4fce-b955-2061006d6d4b"
   },
   "outputs": [],
   "source": [
    "import MeCab\n",
    "tagger = MeCab.Tagger(\"-r ./tools/usr/local/etc/mecabrc\")\n",
    "print(tagger.parse(\"今日はいい天気です\"))"
   ]
  },
  {
   "cell_type": "markdown",
   "metadata": {
    "id": "lkBtH-ivox-c"
   },
   "source": [
    "(2) 扱いやすいように Pandas の DataFrame に格納する"
   ]
  },
  {
   "cell_type": "code",
   "execution_count": null,
   "metadata": {
    "colab": {
     "base_uri": "https://localhost:8080/",
     "height": 269
    },
    "id": "9Koiqraeo1J3",
    "outputId": "ea07b9c5-cfa1-4f58-e615-172a0a1e2152"
   },
   "outputs": [],
   "source": [
    "import pandas as pd\n",
    "\n",
    "node = tagger.parseToNode(\"今日はいい天気です\")\n",
    "features = []\n",
    "while node:\n",
    "    features.append(node.feature.split(','))\n",
    "    node = node.next\n",
    "\n",
    "columns = [\n",
    "    \"品詞\",\n",
    "    \"品詞細分類1\",\n",
    "    \"品詞細分類2\",\n",
    "    \"品詞細分類3\",\n",
    "    \"活用型\",\n",
    "    \"活用形\",\n",
    "    \"基本形\",\n",
    "    \"読み\",\n",
    "    \"発音\",\n",
    "]\n",
    "pd.DataFrame(features, columns=columns)"
   ]
  },
  {
   "cell_type": "markdown",
   "metadata": {
    "id": "HyCXZGItpDEO"
   },
   "source": [
    "### 1.2 係り受け解析"
   ]
  },
  {
   "cell_type": "markdown",
   "metadata": {
    "id": "6-Bncl_jpYuS"
   },
   "source": [
    "(1) そのまま実行する"
   ]
  },
  {
   "cell_type": "code",
   "execution_count": null,
   "metadata": {
    "colab": {
     "base_uri": "https://localhost:8080/"
    },
    "id": "iX-1VIz_pFn4",
    "outputId": "87a163a8-260d-40c5-93a7-2971ef9aa5a3"
   },
   "outputs": [],
   "source": [
    "import CaboCha\n",
    "cp = CaboCha.Parser(\"-r ./tools/usr/local/etc/cabocharc\")\n",
    "tree = cp.parse(\"今日はいい天気です\")\n",
    "print(tree.toString(CaboCha.FORMAT_LATTICE))"
   ]
  },
  {
   "cell_type": "markdown",
   "metadata": {
    "id": "kMWCq0T-pfTK"
   },
   "source": [
    "(2) ツリー形式で出力する"
   ]
  },
  {
   "cell_type": "code",
   "execution_count": null,
   "metadata": {
    "colab": {
     "base_uri": "https://localhost:8080/"
    },
    "id": "s3slSPCNpThZ",
    "outputId": "b5febe40-b706-4155-b2f5-8515d00e06b4"
   },
   "outputs": [],
   "source": [
    "print(cp.parseToString(\"今日はいい天気です\"))"
   ]
  },
  {
   "cell_type": "markdown",
   "metadata": {
    "id": "FNiTyWNopUcd"
   },
   "source": [
    "(3) 係り受けペアを出力する"
   ]
  },
  {
   "cell_type": "code",
   "execution_count": null,
   "metadata": {
    "id": "_rubE4yZplgu"
   },
   "outputs": [],
   "source": [
    "# 構文木(tree)からチャンクを取り出す\n",
    "def get_chunks(tree):\n",
    "    chunks = {}\n",
    "    key = 0\n",
    "    for i in range(tree.size()):\n",
    "        tok = tree.token(i)\n",
    "        if tok.chunk:\n",
    "            chunks[key] = tok.chunk\n",
    "            key += 1\n",
    "    return chunks\n",
    "\n",
    "\n",
    "# チャンク(chunk)から表層形を取り出す\n",
    "def get_surface(chunk):\n",
    "    surface = \"\"\n",
    "    beg = chunk.token_pos\n",
    "    end = chunk.token_pos + chunk.token_size\n",
    "    for i in range(beg, end):\n",
    "        token = tree.token(i)\n",
    "        surface += token.surface\n",
    "    return surface"
   ]
  },
  {
   "cell_type": "code",
   "execution_count": null,
   "metadata": {
    "colab": {
     "base_uri": "https://localhost:8080/"
    },
    "id": "o8tmn2kZpowU",
    "outputId": "085c2641-ed6a-4738-d989-b07bc6db6516"
   },
   "outputs": [],
   "source": [
    "tree = cp.parse(\"今日はいい天気です\")\n",
    "chunks = get_chunks(tree)\n",
    "\n",
    "for from_chunk in chunks.values():\n",
    "    if from_chunk.link < 0:\n",
    "        continue\n",
    "    to_chunk = chunks[from_chunk.link]\n",
    "\n",
    "    from_surface = get_surface(from_chunk)\n",
    "    to_surface = get_surface(to_chunk)\n",
    "\n",
    "    print(from_surface, '->', to_surface)"
   ]
  },
  {
   "cell_type": "markdown",
   "metadata": {
    "id": "r_KisL38qzK4"
   },
   "source": [
    "### 1.3 辞書追加"
   ]
  },
  {
   "cell_type": "markdown",
   "metadata": {
    "id": "ZWPAp2njq5kz"
   },
   "source": [
    "(1) 辞書追加前に MeCab の解析結果を確認する"
   ]
  },
  {
   "cell_type": "code",
   "execution_count": null,
   "metadata": {
    "colab": {
     "base_uri": "https://localhost:8080/"
    },
    "id": "6VUI6x05q2CQ",
    "outputId": "6d7990b9-8556-460a-e1a1-733376fe747b"
   },
   "outputs": [],
   "source": [
    "import MeCab\n",
    "\n",
    "tagger = MeCab.Tagger(\"-r ./tools/usr/local/etc/mecabrc\")\n",
    "print(tagger.parse(\"この泉質は極上です\"))\n",
    "print(tagger.parse(\"この海鮮丼は美味しいです\"))\n",
    "print(tagger.parse(\"近くにスカイツリーがあります\"))\n",
    "print(tagger.parse(\"浴室にバスタオルがありません\"))"
   ]
  },
  {
   "cell_type": "markdown",
   "metadata": {
    "id": "XzTQ_GAQrHqw"
   },
   "source": [
    "(2) 辞書追加前に CaboCha の解析結果を確認する"
   ]
  },
  {
   "cell_type": "code",
   "execution_count": null,
   "metadata": {
    "colab": {
     "base_uri": "https://localhost:8080/"
    },
    "id": "rTEjXVyXrJeN",
    "outputId": "362c987c-dba9-4c0d-ce35-1d0c16662bab"
   },
   "outputs": [],
   "source": [
    "import CaboCha\n",
    "\n",
    "cp = CaboCha.Parser(\"-r ./tools/usr/local/etc/cabocharc\")\n",
    "print(cp.parse(\"この泉質は極上です\").toString(CaboCha.FORMAT_LATTICE))\n",
    "print(cp.parse(\"この海鮮丼は美味しいです\").toString(CaboCha.FORMAT_LATTICE))\n",
    "print(cp.parse(\"近くにスカイツリーがあります\").toString(CaboCha.FORMAT_LATTICE))\n",
    "print(cp.parse(\"浴室にバスタオルがありません\").toString(CaboCha.FORMAT_LATTICE))"
   ]
  },
  {
   "cell_type": "markdown",
   "metadata": {
    "id": "1_W9hId9rQ13"
   },
   "source": [
    "(3) 追加したい形態素の情報を CSV ファイル(user_dic.csv)に追記する"
   ]
  },
  {
   "cell_type": "code",
   "execution_count": null,
   "metadata": {
    "colab": {
     "base_uri": "https://localhost:8080/"
    },
    "id": "g5ojv0d6rIR3",
    "outputId": "c8a74eb9-5669-4bc7-8b95-b54e3d9fc9d1"
   },
   "outputs": [],
   "source": [
    "!echo '\"泉質\",-1,-1,1,名詞,一般,*,*,*,*,泉質,センシツ,センシツ,USER\"' >> ./tools/usr/local/lib/mecab/dic/ipadic/user_dic.csv\n",
    "!echo '\"海鮮丼\",-1,-1,1,名詞,一般,*,*,*,*,海鮮丼,カイセンドン,カイセンドン,USER\"' >> ./tools/usr/local/lib/mecab/dic/ipadic/user_dic.csv\n",
    "!echo '\"スカイツリー\",-1,-1,1,名詞,一般,*,*,*,*,スカイツリー,スカイツリー,スカイツリー,USER\"' >> ./tools/usr/local/lib/mecab/dic/ipadic/user_dic.csv\n",
    "!echo '\"バスタオル\",-1,-1,1,名詞,一般,*,*,*,*,バスタオル,バスタオル,バスタオル,USER\"' >> ./tools/usr/local/lib/mecab/dic/ipadic/user_dic.csv\n",
    "!cat ./tools/usr/local/lib/mecab/dic/ipadic/user_dic.csv"
   ]
  },
  {
   "cell_type": "markdown",
   "metadata": {
    "id": "eTohMx8ordZR"
   },
   "source": [
    "(4) CSVファイル(user_dic.csv)をコンパイルして辞書(user.dic)を作成する"
   ]
  },
  {
   "cell_type": "code",
   "execution_count": null,
   "metadata": {
    "colab": {
     "base_uri": "https://localhost:8080/"
    },
    "id": "QzMP-L07reVS",
    "outputId": "9c556772-b2de-4b7d-bc30-04146ccd1576"
   },
   "outputs": [],
   "source": [
    "# !./tools/usr/local/libexec/mecab/mecab-dict-index \\\n",
    "# -d ./tools/usr/local/lib/mecab/dic/ipadic \\\n",
    "# -u ./tools/usr/local/lib/mecab/dic/ipadic/user.dic \\\n",
    "# -f utf-8 -t utf-8 \\\n",
    "# ./tools/usr/local/lib/mecab/dic/ipadic/user_dic.csv"
   ]
  },
  {
   "cell_type": "markdown",
   "metadata": {
    "id": "hnY_SXFVrnrn"
   },
   "source": [
    "(5) 辞書追加後に MeCab の解析結果を確認する"
   ]
  },
  {
   "cell_type": "code",
   "execution_count": null,
   "metadata": {
    "colab": {
     "base_uri": "https://localhost:8080/"
    },
    "id": "q2GZVo6Nro0Q",
    "outputId": "8dd48a4d-c33d-4405-c292-b0fba0b19768"
   },
   "outputs": [],
   "source": [
    "import MeCab\n",
    "\n",
    "tagger = MeCab.Tagger(\"-r ./tools/usr/local/etc/mecabrc\")\n",
    "print(tagger.parse(\"この泉質は極上です\"))\n",
    "print(tagger.parse(\"この海鮮丼は美味しいです\"))\n",
    "print(tagger.parse(\"近くにスカイツリーがあります\"))\n",
    "print(tagger.parse(\"浴室にバスタオルがありません\"))"
   ]
  },
  {
   "cell_type": "markdown",
   "metadata": {
    "id": "NOu78ev7rzQ3"
   },
   "source": [
    "(6) 辞書追加後に CaboCha の解析結果を確認する"
   ]
  },
  {
   "cell_type": "code",
   "execution_count": null,
   "metadata": {
    "colab": {
     "base_uri": "https://localhost:8080/"
    },
    "id": "_-8WaiTorsif",
    "outputId": "5b553dac-63c1-4435-f161-19941e960b23"
   },
   "outputs": [],
   "source": [
    "import CaboCha\n",
    "\n",
    "cp = CaboCha.Parser(\"-r ./tools/usr/local/etc/cabocharc\")\n",
    "print(cp.parse(\"この泉質は極上です\").toString(CaboCha.FORMAT_LATTICE))\n",
    "print(cp.parse(\"この海鮮丼は美味しいです\").toString(CaboCha.FORMAT_LATTICE))\n",
    "print(cp.parse(\"近くにスカイツリーがあります\").toString(CaboCha.FORMAT_LATTICE))\n",
    "print(cp.parse(\"浴室にバスタオルがありません\").toString(CaboCha.FORMAT_LATTICE))"
   ]
  },
  {
   "cell_type": "markdown",
   "metadata": {
    "id": "X7tvtY_IsiH0"
   },
   "source": [
    "\n",
    "\n",
    "---\n",
    "\n"
   ]
  },
  {
   "cell_type": "markdown",
   "metadata": {
    "id": "KKgxCJhpsmBz"
   },
   "source": [
    "## Appendix. データ理解 (Python の場合)"
   ]
  },
  {
   "cell_type": "markdown",
   "metadata": {
    "id": "gf8l2yRUss9l"
   },
   "source": [
    "### A.1 データのダウンロード"
   ]
  },
  {
   "cell_type": "markdown",
   "metadata": {
    "id": "onN0ew03s1qb"
   },
   "source": [
    "以下のデータをダウンロードします"
   ]
  },
  {
   "cell_type": "markdown",
   "metadata": {},
   "source": [
    "| ファイル名 | 件数 | データセット | 備考 |\n",
    "| --- | --- | --- | --- |\n",
    "| rakuten-1000-2024-2025.xlsx.zip | 10,000 | •レジャー+ビジネスの 10エリア<br>•エリアごと 1,000件 (ランダムサンプリング)<br>•期間: 2024/1~2025 GW明け | 本講義の全体を通して使用する |"
   ]
  },
  {
   "cell_type": "code",
   "execution_count": null,
   "metadata": {
    "colab": {
     "base_uri": "https://localhost:8080/"
    },
    "id": "qQ2kg9-jsonB",
    "outputId": "619a2514-e748-4265-d78c-d4503ad5ca9c"
   },
   "outputs": [],
   "source": [
    "# rakuten-1000-2024-2025.xlsx.zip をダウンロードする\n",
    "FILE_ID = \"1yKabZ7qJMRrIrP4Vtq-RrSZAqFsZriQS\"\n",
    "!gdown {FILE_ID}\n",
    "!unzip -o rakuten-1000-2024-2025.xlsx.zip"
   ]
  },
  {
   "cell_type": "markdown",
   "metadata": {},
   "source": [
    "### A.2 データの読み込み (DataFrame型)"
   ]
  },
  {
   "cell_type": "code",
   "execution_count": null,
   "metadata": {},
   "outputs": [],
   "source": [
    "import numpy as np\n",
    "import pandas as pd\n",
    "\n",
    "df = pd.read_excel(\"rakuten-1000-2024-2025.xlsx\")\n",
    "print(df.shape)\n",
    "display(df.head())"
   ]
  },
  {
   "cell_type": "markdown",
   "metadata": {},
   "source": [
    "### A.3 集計"
   ]
  },
  {
   "cell_type": "markdown",
   "metadata": {},
   "source": [
    "#### (1) エリア別の件数を表示する"
   ]
  },
  {
   "cell_type": "code",
   "execution_count": null,
   "metadata": {},
   "outputs": [],
   "source": [
    "display(df.pivot_table(index=['カテゴリー','エリア'], columns=None, values='コメント', aggfunc='count'))"
   ]
  },
  {
   "cell_type": "markdown",
   "metadata": {},
   "source": [
    "サンプリングデータなので、すべて1000件になっていることを確認する"
   ]
  },
  {
   "cell_type": "markdown",
   "metadata": {},
   "source": [
    "#### (2) 投稿者の傾向 (年代別x性別、全体で100%)"
   ]
  },
  {
   "cell_type": "code",
   "execution_count": null,
   "metadata": {},
   "outputs": [],
   "source": [
    "cross_df = pd.crosstab(df['年代'], df['性別'], margins=True, margins_name='合計', normalize=True) * 100\n",
    "display(cross_df.loc[:,['男性','女性','na','合計']].style.format('{:.2f}%').bar(axis=None, vmin=0, width=90, height=90, align='left'))"
   ]
  },
  {
   "cell_type": "markdown",
   "metadata": {},
   "source": [
    "`na` を除いて表示する"
   ]
  },
  {
   "cell_type": "code",
   "execution_count": null,
   "metadata": {},
   "outputs": [],
   "source": [
    "cross_df = pd.crosstab(df['年代'], df['性別'], margins=False, normalize=True) * 100\n",
    "display(cross_df.loc[cross_df.index!='na',['男性','女性']].style.format('{:.2f}%').bar(axis=None, vmin=0, width=90, height=90, align='left'))"
   ]
  },
  {
   "cell_type": "markdown",
   "metadata": {},
   "source": [
    "#### (3) 投稿者の傾向 (性別xカテゴリ別、列ごとで100%)"
   ]
  },
  {
   "cell_type": "code",
   "execution_count": null,
   "metadata": {},
   "outputs": [],
   "source": [
    "cross_df = pd.crosstab(df['性別'], df['カテゴリー'], margins=True, margins_name='合計', normalize='columns') * 100\n",
    "display(cross_df.loc[['男性','女性','na'],:].style.format('{:.2f}%').bar(axis=None, width=90, height=90, align='left'))"
   ]
  },
  {
   "cell_type": "markdown",
   "metadata": {},
   "source": [
    "`na` を除いて表示する"
   ]
  },
  {
   "cell_type": "code",
   "execution_count": null,
   "metadata": {},
   "outputs": [],
   "source": [
    "cross_df = pd.crosstab(df['性別'], df['カテゴリー'], margins=False, normalize='columns') * 100\n",
    "display(cross_df.loc[['男性','女性'],:].style.format('{:.2f}%').bar(axis=None, vmin=0, width=90, height=90, align='left'))"
   ]
  },
  {
   "cell_type": "markdown",
   "metadata": {},
   "source": [
    "#### (4) 投稿者の傾向 (性別xエリア別、列ごとで100%)"
   ]
  },
  {
   "cell_type": "code",
   "execution_count": null,
   "metadata": {},
   "outputs": [],
   "source": [
    "cross_df = pd.crosstab(df['性別'], [df['カテゴリー'],df['エリア']], margins=True, margins_name='合計', normalize='columns') * 100\n",
    "display(cross_df.loc[['男性','女性','na'],:].style.format('{:.2f}%'))"
   ]
  },
  {
   "cell_type": "markdown",
   "metadata": {},
   "source": [
    "カラーバーにすると横に長くなるため、ヒートマップでプロットする"
   ]
  },
  {
   "cell_type": "code",
   "execution_count": null,
   "metadata": {},
   "outputs": [],
   "source": [
    "import seaborn as sns\n",
    "import matplotlib.pyplot as plt\n",
    "import japanize_matplotlib\n",
    "\n",
    "plt.figure(figsize=(10,3))\n",
    "sns.heatmap(cross_df.loc[['男性','女性','na'],:], annot=True, fmt='.2f', cmap='Blues')\n",
    "plt.show()"
   ]
  },
  {
   "cell_type": "markdown",
   "metadata": {},
   "source": [
    "`na` を除いてプロットする"
   ]
  },
  {
   "cell_type": "code",
   "execution_count": null,
   "metadata": {},
   "outputs": [],
   "source": [
    "import seaborn as sns\n",
    "import matplotlib.pyplot as plt\n",
    "import japanize_matplotlib\n",
    "\n",
    "plt.figure(figsize=(10,2))\n",
    "sns.heatmap(cross_df.loc[['男性','女性'],:], annot=True, fmt='.2f', cmap='Blues')\n",
    "plt.show()"
   ]
  },
  {
   "cell_type": "markdown",
   "metadata": {},
   "source": [
    "#### (5) 投稿者の傾向 (年代xエリア別、列ごとで100%)"
   ]
  },
  {
   "cell_type": "code",
   "execution_count": null,
   "metadata": {},
   "outputs": [],
   "source": [
    "cross_df = pd.crosstab(df['年代'], [df['カテゴリー'],df['エリア']], margins=True, margins_name='合計', normalize='columns') * 100\n",
    "display(cross_df.style.format('{:.2f}%'))"
   ]
  },
  {
   "cell_type": "code",
   "execution_count": null,
   "metadata": {},
   "outputs": [],
   "source": [
    "import seaborn as sns\n",
    "import matplotlib.pyplot as plt\n",
    "import japanize_matplotlib\n",
    "\n",
    "plt.figure(figsize=(10,3))\n",
    "sns.heatmap(cross_df, annot=True, fmt='.2f', cmap='Blues')\n",
    "plt.show()"
   ]
  },
  {
   "cell_type": "markdown",
   "metadata": {},
   "source": [
    "`na` を除いてプロットする"
   ]
  },
  {
   "cell_type": "code",
   "execution_count": null,
   "metadata": {},
   "outputs": [],
   "source": [
    "import seaborn as sns\n",
    "import matplotlib.pyplot as plt\n",
    "import japanize_matplotlib\n",
    "\n",
    "plt.figure(figsize=(10,3))\n",
    "sns.heatmap(cross_df.loc[cross_df.index!='na',:], annot=True, fmt='.2f', cmap='Blues')\n",
    "plt.show()"
   ]
  },
  {
   "cell_type": "markdown",
   "metadata": {},
   "source": [
    "#### (6) 投稿者の傾向 (同伴者別xエリア別、列ごとで100%)"
   ]
  },
  {
   "cell_type": "code",
   "execution_count": null,
   "metadata": {},
   "outputs": [],
   "source": [
    "cross_df = pd.crosstab(df['同伴者'], [df['カテゴリー'],df['エリア']], margins=True, margins_name='合計', normalize='columns') * 100\n",
    "display(cross_df.loc[['一人','家族','恋人','友達','仕事仲間','その他'],:].style.format('{:.2f}%'))"
   ]
  },
  {
   "cell_type": "code",
   "execution_count": null,
   "metadata": {},
   "outputs": [],
   "source": [
    "import seaborn as sns\n",
    "import matplotlib.pyplot as plt\n",
    "import japanize_matplotlib\n",
    "\n",
    "plt.figure(figsize=(10,3))\n",
    "sns.heatmap(cross_df.loc[['一人','家族','恋人','友達','仕事仲間','その他'],:], annot=True, fmt='.2f', cmap='Blues')\n",
    "plt.show()"
   ]
  },
  {
   "cell_type": "markdown",
   "metadata": {},
   "source": [
    "#### (7) 数値評価の構成 (総合別xカテゴリ-エリア別、列ごとに100%)"
   ]
  },
  {
   "cell_type": "code",
   "execution_count": null,
   "metadata": {},
   "outputs": [],
   "source": [
    "cross_df = pd.crosstab(df['総合'], [df['カテゴリー'],df['エリア']], margins=True, margins_name='合計', normalize='columns') * 100\n",
    "display(cross_df.loc[[5,4,3,2,1],:].style.format('{:.2f}%'))"
   ]
  },
  {
   "cell_type": "code",
   "execution_count": null,
   "metadata": {},
   "outputs": [],
   "source": [
    "import seaborn as sns\n",
    "import matplotlib.pyplot as plt\n",
    "import japanize_matplotlib\n",
    "\n",
    "plt.figure(figsize=(10,3))\n",
    "sns.heatmap(cross_df.loc[[5,4,3,2,1],:], annot=True, fmt='.2f', cmap='Blues')\n",
    "plt.show()"
   ]
  },
  {
   "cell_type": "markdown",
   "metadata": {},
   "source": [
    "#### (8) 数値評価の平均 (カテゴリ-エリア別x数値評価別)"
   ]
  },
  {
   "cell_type": "markdown",
   "metadata": {},
   "source": [
    "カテゴリ別"
   ]
  },
  {
   "cell_type": "code",
   "execution_count": null,
   "metadata": {},
   "outputs": [],
   "source": [
    "pivot_df = df.pivot_table(index=['カテゴリー','エリア'], values=['サービス','立地','部屋','設備・アメニティ','風呂','食事','総合'], margins=False, aggfunc='mean', dropna=True)\n",
    "display(pivot_df.loc[:,['サービス','立地','部屋','設備・アメニティ','風呂','食事','総合']].style.format('{:.2f}').background_gradient(axis=None))"
   ]
  },
  {
   "cell_type": "markdown",
   "metadata": {},
   "source": [
    "エリア別"
   ]
  },
  {
   "cell_type": "code",
   "execution_count": null,
   "metadata": {},
   "outputs": [],
   "source": [
    "pivot_df = df.pivot_table(index=['カテゴリー'], values=['サービス','立地','部屋','設備・アメニティ','風呂','食事','総合'], margins=False, aggfunc='mean', dropna=True)\n",
    "display(pivot_df.loc[:,['サービス','立地','部屋','設備・アメニティ','風呂','食事','総合']].style.format('{:.2f}').background_gradient(axis=None))"
   ]
  },
  {
   "cell_type": "markdown",
   "metadata": {},
   "source": [
    "#### (9)数値評価の平均 (年代x性別)"
   ]
  },
  {
   "cell_type": "markdown",
   "metadata": {},
   "source": [
    "20~30代"
   ]
  },
  {
   "cell_type": "code",
   "execution_count": null,
   "metadata": {},
   "outputs": [],
   "source": [
    "pivot_df = df[df['年代'].isin(['20代','30代'])].pivot_table(index=['カテゴリー','性別'], values=['サービス','立地','部屋','設備・アメニティ','風呂','食事','総合'], margins=False, aggfunc='mean', dropna=True)\n",
    "display(pivot_df.loc[(['A_レジャー','B_ビジネス'],['男性','女性']),['サービス','立地','部屋','設備・アメニティ','風呂','食事','総合']].style.format('{:.2f}').background_gradient(axis=None))"
   ]
  },
  {
   "cell_type": "markdown",
   "metadata": {},
   "source": [
    "40~50代"
   ]
  },
  {
   "cell_type": "code",
   "execution_count": null,
   "metadata": {},
   "outputs": [],
   "source": [
    "pivot_df = df[df['年代'].isin(['40代','50代'])].pivot_table(index=['カテゴリー','性別'], values=['サービス','立地','部屋','設備・アメニティ','風呂','食事','総合'], margins=False, aggfunc='mean', dropna=True)\n",
    "display(pivot_df.loc[(['A_レジャー','B_ビジネス'],['男性','女性']),['サービス','立地','部屋','設備・アメニティ','風呂','食事','総合']].style.format('{:.2f}').background_gradient(axis=None))"
   ]
  },
  {
   "cell_type": "markdown",
   "metadata": {},
   "source": [
    "60~80代"
   ]
  },
  {
   "cell_type": "code",
   "execution_count": null,
   "metadata": {},
   "outputs": [],
   "source": [
    "pivot_df = df[df['年代'].isin(['60代','70代','80代'])].pivot_table(index=['カテゴリー','性別'], values=['サービス','立地','部屋','設備・アメニティ','風呂','食事','総合'], margins=False, aggfunc='mean', dropna=True)\n",
    "display(pivot_df.loc[(['A_レジャー','B_ビジネス'],['男性','女性']),['サービス','立地','部屋','設備・アメニティ','風呂','食事','総合']].style.format('{:.2f}').background_gradient(axis=None))"
   ]
  }
 ],
 "metadata": {
  "colab": {
   "collapsed_sections": [
    "cqjkmFVZnWOo",
    "UjUu0Nn6clwU",
    "Vdr1DA_fePjv",
    "7N4sxVcPh57W"
   ],
   "provenance": [],
   "toc_visible": true
  },
  "kernelspec": {
   "display_name": ".venv",
   "language": "python",
   "name": "python3"
  },
  "language_info": {
   "codemirror_mode": {
    "name": "ipython",
    "version": 3
   },
   "file_extension": ".py",
   "mimetype": "text/x-python",
   "name": "python",
   "nbconvert_exporter": "python",
   "pygments_lexer": "ipython3",
   "version": "3.11.12"
  }
 },
 "nbformat": 4,
 "nbformat_minor": 0
}
