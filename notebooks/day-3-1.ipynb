{
 "cells": [
  {
   "cell_type": "markdown",
   "metadata": {
    "id": "rT7mBSnoHihT"
   },
   "source": [
    "# day 3-1"
   ]
  },
  {
   "cell_type": "markdown",
   "metadata": {
    "id": "B6neTek6HihU"
   },
   "source": [
    "このノートブックの実行例は[こちら(HTML版)](https://drive.google.com/file/d/1fB1D3tbmcAJLwd57XEqKrx6gvTO1PbhM/view?usp=drive_link)で確認できます"
   ]
  },
  {
   "cell_type": "markdown",
   "metadata": {
    "id": "H2WCwBZeHihU"
   },
   "source": [
    "---"
   ]
  },
  {
   "cell_type": "markdown",
   "metadata": {
    "id": "kwfbGH3ZkhHq"
   },
   "source": [
    "## 0. 準備"
   ]
  },
  {
   "cell_type": "markdown",
   "metadata": {
    "id": "cqjkmFVZnWOo"
   },
   "source": [
    "### 0.1 必要なパッケージのインストール"
   ]
  },
  {
   "cell_type": "code",
   "execution_count": null,
   "metadata": {
    "executionInfo": {
     "elapsed": 62648,
     "status": "ok",
     "timestamp": 1749513366595,
     "user": {
      "displayName": "Tomohiko HARADA",
      "userId": "07397760701028463631"
     },
     "user_tz": -540
    },
    "id": "aIDLhBmHIX61"
   },
   "outputs": [],
   "source": [
    "%%capture\n",
    "!sudo apt-get update\n",
    "!sudo apt-get install -y automake autoconf perl libtool graphviz libgraphviz-dev\n",
    "!pip install -U japanize_matplotlib pyvis pygraphviz mca"
   ]
  },
  {
   "cell_type": "markdown",
   "metadata": {
    "id": "smVO7fYQHihX"
   },
   "source": [
    "教材のダウンロード"
   ]
  },
  {
   "cell_type": "code",
   "execution_count": null,
   "metadata": {
    "colab": {
     "base_uri": "https://localhost:8080/"
    },
    "executionInfo": {
     "elapsed": 809,
     "status": "ok",
     "timestamp": 1749513367399,
     "user": {
      "displayName": "Tomohiko HARADA",
      "userId": "07397760701028463631"
     },
     "user_tz": -540
    },
    "id": "moo7lU9VHihX",
    "outputId": "b5445b29-f928-4a45-f646-6c43a8cb9aeb"
   },
   "outputs": [],
   "source": [
    "!git clone https://github.com/haradatm/lecture-gssm2025"
   ]
  },
  {
   "cell_type": "markdown",
   "metadata": {},
   "source": [
    "### 0.2 MeCab インストール (時間目安: 約3分)"
   ]
  },
  {
   "cell_type": "code",
   "execution_count": null,
   "metadata": {
    "colab": {
     "base_uri": "https://localhost:8080/"
    },
    "executionInfo": {
     "elapsed": 166425,
     "status": "ok",
     "timestamp": 1749513533829,
     "user": {
      "displayName": "Tomohiko HARADA",
      "userId": "07397760701028463631"
     },
     "user_tz": -540
    },
    "id": "PwriV8EQOR9v",
    "outputId": "110dd55c-8bbc-42fe-9672-67913e05c065"
   },
   "outputs": [],
   "source": [
    "%%time\n",
    "!bash lecture-gssm2025/scripts/install_mecab.sh >> install_mecab.log 2>&1\n",
    "!tail -n 1 install_mecab.log"
   ]
  },
  {
   "cell_type": "markdown",
   "metadata": {},
   "source": [
    "### 0.3 CaboCha インストール (時間目安: 約4分)"
   ]
  },
  {
   "cell_type": "code",
   "execution_count": null,
   "metadata": {
    "colab": {
     "base_uri": "https://localhost:8080/"
    },
    "executionInfo": {
     "elapsed": 237576,
     "status": "ok",
     "timestamp": 1749513771408,
     "user": {
      "displayName": "Tomohiko HARADA",
      "userId": "07397760701028463631"
     },
     "user_tz": -540
    },
    "id": "GMAKh7fch1t2",
    "outputId": "508a062d-5b2a-4c34-ad38-dd639908b26c"
   },
   "outputs": [],
   "source": [
    "%%time\n",
    "!bash lecture-gssm2025/scripts/install_cabocha.sh >> install_cabocha.log 2>&1\n",
    "!tail -n 1 install_cabocha.log"
   ]
  },
  {
   "cell_type": "markdown",
   "metadata": {
    "id": "7N4sxVcPh57W"
   },
   "source": [
    "### 0.4 セッションの再起動"
   ]
  },
  {
   "cell_type": "code",
   "execution_count": null,
   "metadata": {
    "id": "_-vGq-LUb8qX"
   },
   "outputs": [],
   "source": [
    "import os\n",
    "os.kill(os.getpid(), 9)"
   ]
  },
  {
   "cell_type": "markdown",
   "metadata": {},
   "source": [
    "セッションの再起動後は,以下のセルから実行してください. **注意: これより前のセルを再度実行する必要はありません!**"
   ]
  },
  {
   "cell_type": "markdown",
   "metadata": {},
   "source": [
    "---"
   ]
  },
  {
   "cell_type": "markdown",
   "metadata": {
    "id": "oin-iShtlGKL"
   },
   "source": [
    "### 0.5 動作確認"
   ]
  },
  {
   "cell_type": "code",
   "execution_count": null,
   "metadata": {
    "colab": {
     "base_uri": "https://localhost:8080/"
    },
    "executionInfo": {
     "elapsed": 40,
     "status": "ok",
     "timestamp": 1749513861661,
     "user": {
      "displayName": "Tomohiko HARADA",
      "userId": "07397760701028463631"
     },
     "user_tz": -540
    },
    "id": "T96Bd4FXWzDD",
    "outputId": "7c0c314f-d890-4e63-83c4-01f57089a7f3"
   },
   "outputs": [],
   "source": [
    "import MeCab\n",
    "tagger = MeCab.Tagger(\"-r ./tools/usr/local/etc/mecabrc\")\n",
    "print(tagger.parse(\"今日はいい天気です\"))"
   ]
  },
  {
   "cell_type": "code",
   "execution_count": null,
   "metadata": {
    "colab": {
     "base_uri": "https://localhost:8080/"
    },
    "executionInfo": {
     "elapsed": 21,
     "status": "ok",
     "timestamp": 1749513882091,
     "user": {
      "displayName": "Tomohiko HARADA",
      "userId": "07397760701028463631"
     },
     "user_tz": -540
    },
    "id": "B-RZrYKhjNwm",
    "outputId": "284b3da2-ad28-490e-c3ab-3bc39968fd0a"
   },
   "outputs": [],
   "source": [
    "import CaboCha\n",
    "cp = CaboCha.Parser(\"-r ./tools/usr/local/etc/cabocharc\")\n",
    "tree = cp.parse(\"今日はいい天気です\")\n",
    "print(tree.toString(CaboCha.FORMAT_LATTICE))"
   ]
  },
  {
   "cell_type": "markdown",
   "metadata": {
    "id": "UEwkAif4nmv4"
   },
   "source": [
    "\n",
    "\n",
    "---\n",
    "\n"
   ]
  },
  {
   "cell_type": "markdown",
   "metadata": {
    "id": "sKtEfp9Onx1O"
   },
   "source": [
    "## 1. テキスト解析 (1)"
   ]
  },
  {
   "cell_type": "code",
   "execution_count": null,
   "metadata": {},
   "outputs": [],
   "source": [
    "%load_ext autoreload\n",
    "%autoreload 2\n",
    "\n",
    "import os\n",
    "import random\n",
    "import numpy as np\n",
    "\n",
    "# 再現性のために乱数を固定する\n",
    "seed = 42\n",
    "os.environ['PYTHONHASHSEED'] = str(seed)\n",
    "np.random.seed(seed)\n",
    "random.seed(seed)"
   ]
  },
  {
   "cell_type": "markdown",
   "metadata": {
    "id": "5zDzrhDfoE16"
   },
   "source": [
    "### 1.1 形態素解析"
   ]
  },
  {
   "cell_type": "markdown",
   "metadata": {
    "id": "_ISG0hunotkr"
   },
   "source": [
    "(1) そのまま実行する"
   ]
  },
  {
   "cell_type": "code",
   "execution_count": null,
   "metadata": {
    "colab": {
     "base_uri": "https://localhost:8080/"
    },
    "executionInfo": {
     "elapsed": 19,
     "status": "ok",
     "timestamp": 1749513882110,
     "user": {
      "displayName": "Tomohiko HARADA",
      "userId": "07397760701028463631"
     },
     "user_tz": -540
    },
    "id": "Log57tQanrNV",
    "outputId": "992b54c8-3264-4ef3-f8fb-f4514e89bb72"
   },
   "outputs": [],
   "source": [
    "import MeCab\n",
    "tagger = MeCab.Tagger(\"-r ./tools/usr/local/etc/mecabrc\")\n",
    "print(tagger.parse(\"今日はいい天気です\"))"
   ]
  },
  {
   "cell_type": "markdown",
   "metadata": {
    "id": "lkBtH-ivox-c"
   },
   "source": [
    "(2) 扱いやすいように Pandas の DataFrame に格納する"
   ]
  },
  {
   "cell_type": "code",
   "execution_count": null,
   "metadata": {
    "colab": {
     "base_uri": "https://localhost:8080/",
     "height": 269
    },
    "executionInfo": {
     "elapsed": 594,
     "status": "ok",
     "timestamp": 1749513882703,
     "user": {
      "displayName": "Tomohiko HARADA",
      "userId": "07397760701028463631"
     },
     "user_tz": -540
    },
    "id": "9Koiqraeo1J3",
    "outputId": "f08e6022-fea7-4bc3-f746-13158c600347"
   },
   "outputs": [],
   "source": [
    "import pandas as pd\n",
    "\n",
    "node = tagger.parseToNode(\"今日はいい天気です\")\n",
    "features = []\n",
    "while node:\n",
    "    features.append(node.feature.split(','))\n",
    "    node = node.next\n",
    "\n",
    "columns = [\n",
    "    \"品詞\",\n",
    "    \"品詞細分類1\",\n",
    "    \"品詞細分類2\",\n",
    "    \"品詞細分類3\",\n",
    "    \"活用型\",\n",
    "    \"活用形\",\n",
    "    \"基本形\",\n",
    "    \"読み\",\n",
    "    \"発音\",\n",
    "]\n",
    "pd.DataFrame(features, columns=columns)"
   ]
  },
  {
   "cell_type": "markdown",
   "metadata": {
    "id": "HyCXZGItpDEO"
   },
   "source": [
    "### 1.2 係り受け解析"
   ]
  },
  {
   "cell_type": "markdown",
   "metadata": {
    "id": "6-Bncl_jpYuS"
   },
   "source": [
    "(1) そのまま実行する"
   ]
  },
  {
   "cell_type": "code",
   "execution_count": null,
   "metadata": {
    "colab": {
     "base_uri": "https://localhost:8080/"
    },
    "executionInfo": {
     "elapsed": 4,
     "status": "ok",
     "timestamp": 1749513882707,
     "user": {
      "displayName": "Tomohiko HARADA",
      "userId": "07397760701028463631"
     },
     "user_tz": -540
    },
    "id": "iX-1VIz_pFn4",
    "outputId": "71ffd18c-795c-42ca-fa20-f0650c42bb25"
   },
   "outputs": [],
   "source": [
    "import CaboCha\n",
    "cp = CaboCha.Parser(\"-r ./tools/usr/local/etc/cabocharc\")\n",
    "tree = cp.parse(\"今日はいい天気です\")\n",
    "print(tree.toString(CaboCha.FORMAT_LATTICE))"
   ]
  },
  {
   "cell_type": "markdown",
   "metadata": {
    "id": "kMWCq0T-pfTK"
   },
   "source": [
    "(2) ツリー形式で出力する"
   ]
  },
  {
   "cell_type": "code",
   "execution_count": null,
   "metadata": {
    "colab": {
     "base_uri": "https://localhost:8080/"
    },
    "executionInfo": {
     "elapsed": 2,
     "status": "ok",
     "timestamp": 1749513882710,
     "user": {
      "displayName": "Tomohiko HARADA",
      "userId": "07397760701028463631"
     },
     "user_tz": -540
    },
    "id": "s3slSPCNpThZ",
    "outputId": "c3155da0-9d55-421b-d7a9-ae058212918c"
   },
   "outputs": [],
   "source": [
    "print(cp.parseToString(\"今日はいい天気です\"))"
   ]
  },
  {
   "cell_type": "markdown",
   "metadata": {
    "id": "FNiTyWNopUcd"
   },
   "source": [
    "(3) 係り受けペアを出力する"
   ]
  },
  {
   "cell_type": "code",
   "execution_count": null,
   "metadata": {
    "executionInfo": {
     "elapsed": 12,
     "status": "ok",
     "timestamp": 1749513882723,
     "user": {
      "displayName": "Tomohiko HARADA",
      "userId": "07397760701028463631"
     },
     "user_tz": -540
    },
    "id": "_rubE4yZplgu"
   },
   "outputs": [],
   "source": [
    "# 構文木(tree)からチャンクを取り出す\n",
    "def get_chunks(tree):\n",
    "    chunks = {}\n",
    "    key = 0\n",
    "    for i in range(tree.size()):\n",
    "        tok = tree.token(i)\n",
    "        if tok.chunk:\n",
    "            chunks[key] = tok.chunk\n",
    "            key += 1\n",
    "    return chunks\n",
    "\n",
    "\n",
    "# チャンク(chunk)から表層形を取り出す\n",
    "def get_surface(chunk):\n",
    "    surface = \"\"\n",
    "    beg = chunk.token_pos\n",
    "    end = chunk.token_pos + chunk.token_size\n",
    "    for i in range(beg, end):\n",
    "        token = tree.token(i)\n",
    "        surface += token.surface\n",
    "    return surface"
   ]
  },
  {
   "cell_type": "code",
   "execution_count": null,
   "metadata": {
    "colab": {
     "base_uri": "https://localhost:8080/"
    },
    "executionInfo": {
     "elapsed": 6,
     "status": "ok",
     "timestamp": 1749513882730,
     "user": {
      "displayName": "Tomohiko HARADA",
      "userId": "07397760701028463631"
     },
     "user_tz": -540
    },
    "id": "o8tmn2kZpowU",
    "outputId": "f85b5850-fdb3-42b6-8855-9a4c4f40fb2f"
   },
   "outputs": [],
   "source": [
    "tree = cp.parse(\"今日はいい天気です\")\n",
    "chunks = get_chunks(tree)\n",
    "\n",
    "for from_chunk in chunks.values():\n",
    "    if from_chunk.link < 0:\n",
    "        continue\n",
    "    to_chunk = chunks[from_chunk.link]\n",
    "\n",
    "    from_surface = get_surface(from_chunk)\n",
    "    to_surface = get_surface(to_chunk)\n",
    "\n",
    "    print(from_surface, '->', to_surface)"
   ]
  },
  {
   "cell_type": "markdown",
   "metadata": {
    "id": "r_KisL38qzK4"
   },
   "source": [
    "### 1.3 辞書追加"
   ]
  },
  {
   "cell_type": "markdown",
   "metadata": {
    "id": "ZWPAp2njq5kz"
   },
   "source": [
    "(1) 辞書追加前に MeCab の解析結果を確認する"
   ]
  },
  {
   "cell_type": "code",
   "execution_count": null,
   "metadata": {
    "colab": {
     "base_uri": "https://localhost:8080/"
    },
    "executionInfo": {
     "elapsed": 57,
     "status": "ok",
     "timestamp": 1749513882788,
     "user": {
      "displayName": "Tomohiko HARADA",
      "userId": "07397760701028463631"
     },
     "user_tz": -540
    },
    "id": "6VUI6x05q2CQ",
    "outputId": "b0f841d1-2ad6-4167-8411-54fa739dd7b4"
   },
   "outputs": [],
   "source": [
    "import MeCab\n",
    "\n",
    "tagger = MeCab.Tagger(\"-r ./tools/usr/local/etc/mecabrc\")\n",
    "print(tagger.parse(\"この泉質は極上です\"))\n",
    "print(tagger.parse(\"この海鮮丼は美味しいです\"))\n",
    "print(tagger.parse(\"近くにスカイツリーがあります\"))\n",
    "print(tagger.parse(\"浴室にバスタオルがありません\"))"
   ]
  },
  {
   "cell_type": "markdown",
   "metadata": {
    "id": "XzTQ_GAQrHqw"
   },
   "source": [
    "(2) 辞書追加前に CaboCha の解析結果を確認する"
   ]
  },
  {
   "cell_type": "code",
   "execution_count": null,
   "metadata": {
    "colab": {
     "base_uri": "https://localhost:8080/"
    },
    "executionInfo": {
     "elapsed": 2,
     "status": "ok",
     "timestamp": 1749513882790,
     "user": {
      "displayName": "Tomohiko HARADA",
      "userId": "07397760701028463631"
     },
     "user_tz": -540
    },
    "id": "rTEjXVyXrJeN",
    "outputId": "cb60b135-8e29-421b-a610-b4e38e298353"
   },
   "outputs": [],
   "source": [
    "import CaboCha\n",
    "\n",
    "cp = CaboCha.Parser(\"-r ./tools/usr/local/etc/cabocharc\")\n",
    "print(cp.parse(\"この泉質は極上です\").toString(CaboCha.FORMAT_LATTICE))\n",
    "print(cp.parse(\"この海鮮丼は美味しいです\").toString(CaboCha.FORMAT_LATTICE))\n",
    "print(cp.parse(\"近くにスカイツリーがあります\").toString(CaboCha.FORMAT_LATTICE))\n",
    "print(cp.parse(\"浴室にバスタオルがありません\").toString(CaboCha.FORMAT_LATTICE))"
   ]
  },
  {
   "cell_type": "markdown",
   "metadata": {
    "id": "1_W9hId9rQ13"
   },
   "source": [
    "(3) 追加したい形態素の情報を CSV ファイル(user_dic.csv)に追記する"
   ]
  },
  {
   "cell_type": "code",
   "execution_count": null,
   "metadata": {
    "colab": {
     "base_uri": "https://localhost:8080/"
    },
    "executionInfo": {
     "elapsed": 502,
     "status": "ok",
     "timestamp": 1749513883293,
     "user": {
      "displayName": "Tomohiko HARADA",
      "userId": "07397760701028463631"
     },
     "user_tz": -540
    },
    "id": "g5ojv0d6rIR3",
    "outputId": "5ea908be-42dd-44ab-b27e-a289e6fd440c"
   },
   "outputs": [],
   "source": [
    "!echo '\"泉質\",-1,-1,1,名詞,一般,*,*,*,*,泉質,センシツ,センシツ,USER\"' >> ./tools/usr/local/lib/mecab/dic/ipadic/user_dic.csv\n",
    "!echo '\"海鮮丼\",-1,-1,1,名詞,一般,*,*,*,*,海鮮丼,カイセンドン,カイセンドン,USER\"' >> ./tools/usr/local/lib/mecab/dic/ipadic/user_dic.csv\n",
    "!echo '\"スカイツリー\",-1,-1,1,名詞,一般,*,*,*,*,スカイツリー,スカイツリー,スカイツリー,USER\"' >> ./tools/usr/local/lib/mecab/dic/ipadic/user_dic.csv\n",
    "!echo '\"バスタオル\",-1,-1,1,名詞,一般,*,*,*,*,バスタオル,バスタオル,バスタオル,USER\"' >> ./tools/usr/local/lib/mecab/dic/ipadic/user_dic.csv\n",
    "!cat ./tools/usr/local/lib/mecab/dic/ipadic/user_dic.csv"
   ]
  },
  {
   "cell_type": "markdown",
   "metadata": {
    "id": "eTohMx8ordZR"
   },
   "source": [
    "(4) CSVファイル(user_dic.csv)をコンパイルして辞書(user.dic)を作成する"
   ]
  },
  {
   "cell_type": "code",
   "execution_count": null,
   "metadata": {
    "executionInfo": {
     "elapsed": 43,
     "status": "ok",
     "timestamp": 1749513883339,
     "user": {
      "displayName": "Tomohiko HARADA",
      "userId": "07397760701028463631"
     },
     "user_tz": -540
    },
    "id": "QzMP-L07reVS"
   },
   "outputs": [],
   "source": [
    "# !./tools/usr/local/libexec/mecab/mecab-dict-index \\\n",
    "# -d ./tools/usr/local/lib/mecab/dic/ipadic \\\n",
    "# -u ./tools/usr/local/lib/mecab/dic/ipadic/user.dic \\\n",
    "# -f utf-8 -t utf-8 \\\n",
    "# ./tools/usr/local/lib/mecab/dic/ipadic/user_dic.csv"
   ]
  },
  {
   "cell_type": "markdown",
   "metadata": {
    "id": "hnY_SXFVrnrn"
   },
   "source": [
    "(5) 辞書追加後に MeCab の解析結果を確認する"
   ]
  },
  {
   "cell_type": "code",
   "execution_count": null,
   "metadata": {
    "colab": {
     "base_uri": "https://localhost:8080/"
    },
    "executionInfo": {
     "elapsed": 8,
     "status": "ok",
     "timestamp": 1749513883348,
     "user": {
      "displayName": "Tomohiko HARADA",
      "userId": "07397760701028463631"
     },
     "user_tz": -540
    },
    "id": "q2GZVo6Nro0Q",
    "outputId": "cabbfe77-f1ed-495d-fe76-0f0e16fe2811"
   },
   "outputs": [],
   "source": [
    "import MeCab\n",
    "\n",
    "tagger = MeCab.Tagger(\"-r ./tools/usr/local/etc/mecabrc\")\n",
    "print(tagger.parse(\"この泉質は極上です\"))\n",
    "print(tagger.parse(\"この海鮮丼は美味しいです\"))\n",
    "print(tagger.parse(\"近くにスカイツリーがあります\"))\n",
    "print(tagger.parse(\"浴室にバスタオルがありません\"))"
   ]
  },
  {
   "cell_type": "markdown",
   "metadata": {
    "id": "NOu78ev7rzQ3"
   },
   "source": [
    "(6) 辞書追加後に CaboCha の解析結果を確認する"
   ]
  },
  {
   "cell_type": "code",
   "execution_count": null,
   "metadata": {
    "colab": {
     "base_uri": "https://localhost:8080/"
    },
    "executionInfo": {
     "elapsed": 2,
     "status": "ok",
     "timestamp": 1749513883363,
     "user": {
      "displayName": "Tomohiko HARADA",
      "userId": "07397760701028463631"
     },
     "user_tz": -540
    },
    "id": "_-8WaiTorsif",
    "outputId": "48c78eb1-de34-4a3a-ea48-82042b33d9e2"
   },
   "outputs": [],
   "source": [
    "import CaboCha\n",
    "\n",
    "cp = CaboCha.Parser(\"-r ./tools/usr/local/etc/cabocharc\")\n",
    "print(cp.parse(\"この泉質は極上です\").toString(CaboCha.FORMAT_LATTICE))\n",
    "print(cp.parse(\"この海鮮丼は美味しいです\").toString(CaboCha.FORMAT_LATTICE))\n",
    "print(cp.parse(\"近くにスカイツリーがあります\").toString(CaboCha.FORMAT_LATTICE))\n",
    "print(cp.parse(\"浴室にバスタオルがありません\").toString(CaboCha.FORMAT_LATTICE))"
   ]
  },
  {
   "cell_type": "markdown",
   "metadata": {
    "id": "X7tvtY_IsiH0"
   },
   "source": [
    "\n",
    "\n",
    "---\n",
    "\n"
   ]
  },
  {
   "cell_type": "markdown",
   "metadata": {
    "id": "KKgxCJhpsmBz"
   },
   "source": [
    "## Appendix. データ理解 (Python の場合)"
   ]
  },
  {
   "cell_type": "markdown",
   "metadata": {
    "id": "gf8l2yRUss9l"
   },
   "source": [
    "### A.1 データのダウンロード"
   ]
  },
  {
   "cell_type": "markdown",
   "metadata": {
    "id": "onN0ew03s1qb"
   },
   "source": [
    "以下のデータをダウンロードします"
   ]
  },
  {
   "cell_type": "markdown",
   "metadata": {
    "id": "5hnKFPe-Hihh"
   },
   "source": [
    "| ファイル名 | 件数 | データセット | 備考 |\n",
    "| --- | --- | --- | --- |\n",
    "| rakuten-1000-2024-2025.xlsx.zip | 10,000 | •レジャー+ビジネスの 10エリア<br>•エリアごと 1,000件 (ランダムサンプリング)<br>•期間: 2024/1~2025 GW明け | 本講義の全体を通して使用する |"
   ]
  },
  {
   "cell_type": "code",
   "execution_count": null,
   "metadata": {
    "colab": {
     "base_uri": "https://localhost:8080/"
    },
    "executionInfo": {
     "elapsed": 4829,
     "status": "ok",
     "timestamp": 1749513888193,
     "user": {
      "displayName": "Tomohiko HARADA",
      "userId": "07397760701028463631"
     },
     "user_tz": -540
    },
    "id": "qQ2kg9-jsonB",
    "outputId": "36f4cb7e-f1e7-4328-867c-b4085bd70b96"
   },
   "outputs": [],
   "source": [
    "# rakuten-1000-2024-2025.xlsx.zip をダウンロードする\n",
    "FILE_ID = \"1yKabZ7qJMRrIrP4Vtq-RrSZAqFsZriQS\"\n",
    "!gdown {FILE_ID}\n",
    "!unzip -o rakuten-1000-2024-2025.xlsx.zip"
   ]
  },
  {
   "cell_type": "markdown",
   "metadata": {
    "id": "VBYjPlM4Hihh"
   },
   "source": [
    "### A.2 データの読み込み (DataFrame型)"
   ]
  },
  {
   "cell_type": "code",
   "execution_count": null,
   "metadata": {
    "colab": {
     "base_uri": "https://localhost:8080/",
     "height": 520
    },
    "executionInfo": {
     "elapsed": 2852,
     "status": "ok",
     "timestamp": 1749513891047,
     "user": {
      "displayName": "Tomohiko HARADA",
      "userId": "07397760701028463631"
     },
     "user_tz": -540
    },
    "id": "wR8Z0fIHHihh",
    "outputId": "40fc4e05-037c-4b74-a4a4-c0ff5edff56f"
   },
   "outputs": [],
   "source": [
    "import numpy as np\n",
    "import pandas as pd\n",
    "\n",
    "df = pd.read_excel(\"rakuten-1000-2024-2025.xlsx\")\n",
    "print(df.shape)\n",
    "display(df.head())"
   ]
  },
  {
   "cell_type": "markdown",
   "metadata": {
    "id": "CP0ehBgkHihh"
   },
   "source": [
    "### A.3 集計"
   ]
  },
  {
   "cell_type": "markdown",
   "metadata": {
    "id": "PhlnvpW3Hihh"
   },
   "source": [
    "#### (1) エリア別の件数を表示する"
   ]
  },
  {
   "cell_type": "code",
   "execution_count": null,
   "metadata": {
    "colab": {
     "base_uri": "https://localhost:8080/",
     "height": 394
    },
    "executionInfo": {
     "elapsed": 62,
     "status": "ok",
     "timestamp": 1749513891112,
     "user": {
      "displayName": "Tomohiko HARADA",
      "userId": "07397760701028463631"
     },
     "user_tz": -540
    },
    "id": "XUqXWTvFHihh",
    "outputId": "be0531d3-d376-4636-ac41-b647d97c7896"
   },
   "outputs": [],
   "source": [
    "display(df.pivot_table(index=['カテゴリー','エリア'], columns=None, values='コメント', aggfunc='count'))"
   ]
  },
  {
   "cell_type": "markdown",
   "metadata": {
    "id": "liHM5gh4Hihh"
   },
   "source": [
    "サンプリングデータなので、すべて1000件になっていることを確認する"
   ]
  },
  {
   "cell_type": "markdown",
   "metadata": {
    "id": "-p7_cY6BHihh"
   },
   "source": [
    "#### (2) 投稿者の傾向 (年代別x性別、全体で100%)"
   ]
  },
  {
   "cell_type": "code",
   "execution_count": null,
   "metadata": {
    "colab": {
     "base_uri": "https://localhost:8080/",
     "height": 457
    },
    "executionInfo": {
     "elapsed": 150,
     "status": "ok",
     "timestamp": 1749513891236,
     "user": {
      "displayName": "Tomohiko HARADA",
      "userId": "07397760701028463631"
     },
     "user_tz": -540
    },
    "id": "5pjGU_sxHihi",
    "outputId": "bb238a6a-b1fc-4bcb-c802-6152a07ff68f"
   },
   "outputs": [],
   "source": [
    "cross_df = pd.crosstab(df['年代'], df['性別'], margins=True, margins_name='合計', normalize=True) * 100\n",
    "display(cross_df.loc[:,['男性','女性','na','合計']].style.format('{:.2f}%').bar(axis=None, vmin=0, width=90, height=90, align='left'))"
   ]
  },
  {
   "cell_type": "markdown",
   "metadata": {
    "id": "bPTDAJEVHihi"
   },
   "source": [
    "`na` を除いて表示する"
   ]
  },
  {
   "cell_type": "code",
   "execution_count": null,
   "metadata": {
    "colab": {
     "base_uri": "https://localhost:8080/",
     "height": 394
    },
    "executionInfo": {
     "elapsed": 46,
     "status": "ok",
     "timestamp": 1749513891283,
     "user": {
      "displayName": "Tomohiko HARADA",
      "userId": "07397760701028463631"
     },
     "user_tz": -540
    },
    "id": "NuXJVxRRHihi",
    "outputId": "007fdb9c-c23f-40f1-de5c-520610cf5eb7"
   },
   "outputs": [],
   "source": [
    "cross_df = pd.crosstab(df['年代'], df['性別'], margins=False, normalize=True) * 100\n",
    "display(cross_df.loc[cross_df.index!='na',['男性','女性']].style.format('{:.2f}%').bar(axis=None, vmin=0, width=90, height=90, align='left'))"
   ]
  },
  {
   "cell_type": "markdown",
   "metadata": {
    "id": "NbZnPN4vHihi"
   },
   "source": [
    "#### (3) 投稿者の傾向 (性別xカテゴリ別、列ごとで100%)"
   ]
  },
  {
   "cell_type": "code",
   "execution_count": null,
   "metadata": {
    "colab": {
     "base_uri": "https://localhost:8080/",
     "height": 175
    },
    "executionInfo": {
     "elapsed": 63,
     "status": "ok",
     "timestamp": 1749513891345,
     "user": {
      "displayName": "Tomohiko HARADA",
      "userId": "07397760701028463631"
     },
     "user_tz": -540
    },
    "id": "75KLM7fFHihi",
    "outputId": "22cbab03-102e-4ebb-dcc3-4d87836d45ff"
   },
   "outputs": [],
   "source": [
    "cross_df = pd.crosstab(df['性別'], df['カテゴリー'], margins=True, margins_name='合計', normalize='columns') * 100\n",
    "display(cross_df.loc[['男性','女性','na'],:].style.format('{:.2f}%').bar(axis=None, width=90, height=90, align='left'))"
   ]
  },
  {
   "cell_type": "markdown",
   "metadata": {
    "id": "Yax2skV6Hihi"
   },
   "source": [
    "`na` を除いて表示する"
   ]
  },
  {
   "cell_type": "code",
   "execution_count": null,
   "metadata": {
    "colab": {
     "base_uri": "https://localhost:8080/",
     "height": 143
    },
    "executionInfo": {
     "elapsed": 4,
     "status": "ok",
     "timestamp": 1749513891345,
     "user": {
      "displayName": "Tomohiko HARADA",
      "userId": "07397760701028463631"
     },
     "user_tz": -540
    },
    "id": "2wQTYUQsHihi",
    "outputId": "2e17b4c5-2b17-48d2-8f63-50a4afd319a7"
   },
   "outputs": [],
   "source": [
    "cross_df = pd.crosstab(df['性別'], df['カテゴリー'], margins=False, normalize='columns') * 100\n",
    "display(cross_df.loc[['男性','女性'],:].style.format('{:.2f}%').bar(axis=None, vmin=0, width=90, height=90, align='left'))"
   ]
  },
  {
   "cell_type": "markdown",
   "metadata": {
    "id": "SneyPk0MHihi"
   },
   "source": [
    "#### (4) 投稿者の傾向 (性別xエリア別、列ごとで100%)"
   ]
  },
  {
   "cell_type": "code",
   "execution_count": null,
   "metadata": {
    "colab": {
     "base_uri": "https://localhost:8080/",
     "height": 206
    },
    "executionInfo": {
     "elapsed": 34,
     "status": "ok",
     "timestamp": 1749513891378,
     "user": {
      "displayName": "Tomohiko HARADA",
      "userId": "07397760701028463631"
     },
     "user_tz": -540
    },
    "id": "KKZS6gW2Hihi",
    "outputId": "5338f6d8-5edf-47e2-c04e-4b5deaef35be"
   },
   "outputs": [],
   "source": [
    "cross_df = pd.crosstab(df['性別'], [df['カテゴリー'],df['エリア']], margins=True, margins_name='合計', normalize='columns') * 100\n",
    "display(cross_df.loc[['男性','女性','na'],:].style.format('{:.2f}%'))"
   ]
  },
  {
   "cell_type": "markdown",
   "metadata": {
    "id": "YRj6wAjzHihi"
   },
   "source": [
    "カラーバーにすると横に長くなるため、ヒートマップでプロットする"
   ]
  },
  {
   "cell_type": "code",
   "execution_count": null,
   "metadata": {
    "colab": {
     "base_uri": "https://localhost:8080/",
     "height": 439
    },
    "executionInfo": {
     "elapsed": 1970,
     "status": "ok",
     "timestamp": 1749513893348,
     "user": {
      "displayName": "Tomohiko HARADA",
      "userId": "07397760701028463631"
     },
     "user_tz": -540
    },
    "id": "cHenR_EQHihi",
    "outputId": "3e2b69bb-0e0c-49bb-eb56-3d00dea66683"
   },
   "outputs": [],
   "source": [
    "import seaborn as sns\n",
    "import matplotlib.pyplot as plt\n",
    "import japanize_matplotlib\n",
    "\n",
    "plt.figure(figsize=(10,3))\n",
    "sns.heatmap(cross_df.loc[['男性','女性','na'],:], annot=True, fmt='.2f', cmap='Blues')\n",
    "plt.show()"
   ]
  },
  {
   "cell_type": "markdown",
   "metadata": {
    "id": "FJe8N6-uHihi"
   },
   "source": [
    "`na` を除いてプロットする"
   ]
  },
  {
   "cell_type": "code",
   "execution_count": null,
   "metadata": {
    "colab": {
     "base_uri": "https://localhost:8080/",
     "height": 362
    },
    "executionInfo": {
     "elapsed": 181,
     "status": "ok",
     "timestamp": 1749513893531,
     "user": {
      "displayName": "Tomohiko HARADA",
      "userId": "07397760701028463631"
     },
     "user_tz": -540
    },
    "id": "iKYwGOPkHihi",
    "outputId": "a482de26-dbd9-4ed8-cb95-7bc18fe87581"
   },
   "outputs": [],
   "source": [
    "import seaborn as sns\n",
    "import matplotlib.pyplot as plt\n",
    "import japanize_matplotlib\n",
    "\n",
    "plt.figure(figsize=(10,2))\n",
    "sns.heatmap(cross_df.loc[['男性','女性'],:], annot=True, fmt='.2f', cmap='Blues')\n",
    "plt.show()"
   ]
  },
  {
   "cell_type": "markdown",
   "metadata": {
    "id": "5O3wcsojHihi"
   },
   "source": [
    "#### (5) 投稿者の傾向 (年代xエリア別、列ごとで100%)"
   ]
  },
  {
   "cell_type": "code",
   "execution_count": null,
   "metadata": {
    "colab": {
     "base_uri": "https://localhost:8080/",
     "height": 457
    },
    "executionInfo": {
     "elapsed": 40,
     "status": "ok",
     "timestamp": 1749513893568,
     "user": {
      "displayName": "Tomohiko HARADA",
      "userId": "07397760701028463631"
     },
     "user_tz": -540
    },
    "id": "zCAPkMRpHihi",
    "outputId": "e992eaef-dfb1-4113-8343-c555fc5c7f6b"
   },
   "outputs": [],
   "source": [
    "cross_df = pd.crosstab(df['年代'], [df['カテゴリー'],df['エリア']], margins=True, margins_name='合計', normalize='columns') * 100\n",
    "display(cross_df.style.format('{:.2f}%'))"
   ]
  },
  {
   "cell_type": "code",
   "execution_count": null,
   "metadata": {
    "colab": {
     "base_uri": "https://localhost:8080/",
     "height": 439
    },
    "executionInfo": {
     "elapsed": 535,
     "status": "ok",
     "timestamp": 1749513894103,
     "user": {
      "displayName": "Tomohiko HARADA",
      "userId": "07397760701028463631"
     },
     "user_tz": -540
    },
    "id": "Ey6E_nYVHihi",
    "outputId": "601a99bc-55bd-4c6a-9a5d-97d18c55d7e4"
   },
   "outputs": [],
   "source": [
    "import seaborn as sns\n",
    "import matplotlib.pyplot as plt\n",
    "import japanize_matplotlib\n",
    "\n",
    "plt.figure(figsize=(10,3))\n",
    "sns.heatmap(cross_df, annot=True, fmt='.2f', cmap='Blues')\n",
    "plt.show()"
   ]
  },
  {
   "cell_type": "markdown",
   "metadata": {
    "id": "W0a9x-3RHihj"
   },
   "source": [
    "`na` を除いてプロットする"
   ]
  },
  {
   "cell_type": "code",
   "execution_count": null,
   "metadata": {
    "colab": {
     "base_uri": "https://localhost:8080/",
     "height": 439
    },
    "executionInfo": {
     "elapsed": 439,
     "status": "ok",
     "timestamp": 1749513894543,
     "user": {
      "displayName": "Tomohiko HARADA",
      "userId": "07397760701028463631"
     },
     "user_tz": -540
    },
    "id": "FA8q_iQEHihj",
    "outputId": "aee4d8b9-2dc2-44d1-9b20-2fb4a8efb6d7"
   },
   "outputs": [],
   "source": [
    "import seaborn as sns\n",
    "import matplotlib.pyplot as plt\n",
    "import japanize_matplotlib\n",
    "\n",
    "plt.figure(figsize=(10,3))\n",
    "sns.heatmap(cross_df.loc[cross_df.index!='na',:], annot=True, fmt='.2f', cmap='Blues')\n",
    "plt.show()"
   ]
  },
  {
   "cell_type": "markdown",
   "metadata": {
    "id": "F2OgPIupHihj"
   },
   "source": [
    "#### (6) 投稿者の傾向 (同伴者別xエリア別、列ごとで100%)"
   ]
  },
  {
   "cell_type": "code",
   "execution_count": null,
   "metadata": {
    "colab": {
     "base_uri": "https://localhost:8080/",
     "height": 300
    },
    "executionInfo": {
     "elapsed": 13,
     "status": "ok",
     "timestamp": 1749513894558,
     "user": {
      "displayName": "Tomohiko HARADA",
      "userId": "07397760701028463631"
     },
     "user_tz": -540
    },
    "id": "mxKnamSSHihj",
    "outputId": "556db7bb-f27f-4d51-8f30-785e15a5c7b5"
   },
   "outputs": [],
   "source": [
    "cross_df = pd.crosstab(df['同伴者'], [df['カテゴリー'],df['エリア']], margins=True, margins_name='合計', normalize='columns') * 100\n",
    "display(cross_df.loc[['一人','家族','恋人','友達','仕事仲間','その他'],:].style.format('{:.2f}%'))"
   ]
  },
  {
   "cell_type": "code",
   "execution_count": null,
   "metadata": {
    "colab": {
     "base_uri": "https://localhost:8080/",
     "height": 439
    },
    "executionInfo": {
     "elapsed": 524,
     "status": "ok",
     "timestamp": 1749513895081,
     "user": {
      "displayName": "Tomohiko HARADA",
      "userId": "07397760701028463631"
     },
     "user_tz": -540
    },
    "id": "wqRBVBAPHihj",
    "outputId": "8cec8ccb-4ef6-4881-ffe7-251cf3bdaebf"
   },
   "outputs": [],
   "source": [
    "import seaborn as sns\n",
    "import matplotlib.pyplot as plt\n",
    "import japanize_matplotlib\n",
    "\n",
    "plt.figure(figsize=(10,3))\n",
    "sns.heatmap(cross_df.loc[['一人','家族','恋人','友達','仕事仲間','その他'],:], annot=True, fmt='.2f', cmap='Blues')\n",
    "plt.show()"
   ]
  },
  {
   "cell_type": "markdown",
   "metadata": {
    "id": "eGQFq8FtHihj"
   },
   "source": [
    "#### (7) 数値評価の構成 (総合別xカテゴリ-エリア別、列ごとに100%)"
   ]
  },
  {
   "cell_type": "code",
   "execution_count": null,
   "metadata": {
    "colab": {
     "base_uri": "https://localhost:8080/",
     "height": 269
    },
    "executionInfo": {
     "elapsed": 5,
     "status": "ok",
     "timestamp": 1749513895085,
     "user": {
      "displayName": "Tomohiko HARADA",
      "userId": "07397760701028463631"
     },
     "user_tz": -540
    },
    "id": "Z8tny6K6Hihj",
    "outputId": "bef4b6d5-3b88-4615-a764-5d9cea10a321"
   },
   "outputs": [],
   "source": [
    "cross_df = pd.crosstab(df['総合'], [df['カテゴリー'],df['エリア']], margins=True, margins_name='合計', normalize='columns') * 100\n",
    "display(cross_df.loc[[5,4,3,2,1],:].style.format('{:.2f}%'))"
   ]
  },
  {
   "cell_type": "code",
   "execution_count": null,
   "metadata": {
    "colab": {
     "base_uri": "https://localhost:8080/",
     "height": 439
    },
    "executionInfo": {
     "elapsed": 379,
     "status": "ok",
     "timestamp": 1749513895466,
     "user": {
      "displayName": "Tomohiko HARADA",
      "userId": "07397760701028463631"
     },
     "user_tz": -540
    },
    "id": "PyiA_FFsHihj",
    "outputId": "aa0baa25-3f88-4416-ce36-bb272d5d15d0"
   },
   "outputs": [],
   "source": [
    "import seaborn as sns\n",
    "import matplotlib.pyplot as plt\n",
    "import japanize_matplotlib\n",
    "\n",
    "plt.figure(figsize=(10,3))\n",
    "sns.heatmap(cross_df.loc[[5,4,3,2,1],:], annot=True, fmt='.2f', cmap='Blues')\n",
    "plt.show()"
   ]
  },
  {
   "cell_type": "markdown",
   "metadata": {
    "id": "dXm8SPX4Hihj"
   },
   "source": [
    "#### (8) 数値評価の平均 (カテゴリ-エリア別x数値評価別)"
   ]
  },
  {
   "cell_type": "markdown",
   "metadata": {
    "id": "1zYKLJYRHihj"
   },
   "source": [
    "カテゴリ別"
   ]
  },
  {
   "cell_type": "code",
   "execution_count": null,
   "metadata": {
    "colab": {
     "base_uri": "https://localhost:8080/",
     "height": 394
    },
    "executionInfo": {
     "elapsed": 32,
     "status": "ok",
     "timestamp": 1749513895501,
     "user": {
      "displayName": "Tomohiko HARADA",
      "userId": "07397760701028463631"
     },
     "user_tz": -540
    },
    "id": "KvkzuOp9Hihj",
    "outputId": "434895fb-b0a9-4689-c852-d46802ef51d1"
   },
   "outputs": [],
   "source": [
    "pivot_df = df.pivot_table(index=['カテゴリー','エリア'], values=['サービス','立地','部屋','設備・アメニティ','風呂','食事','総合'], margins=False, aggfunc='mean', dropna=True)\n",
    "display(pivot_df.loc[:,['サービス','立地','部屋','設備・アメニティ','風呂','食事','総合']].style.format('{:.2f}').background_gradient(axis=None))"
   ]
  },
  {
   "cell_type": "markdown",
   "metadata": {
    "id": "D6pGu8osHihj"
   },
   "source": [
    "エリア別"
   ]
  },
  {
   "cell_type": "code",
   "execution_count": null,
   "metadata": {
    "colab": {
     "base_uri": "https://localhost:8080/",
     "height": 143
    },
    "executionInfo": {
     "elapsed": 2,
     "status": "ok",
     "timestamp": 1749513895504,
     "user": {
      "displayName": "Tomohiko HARADA",
      "userId": "07397760701028463631"
     },
     "user_tz": -540
    },
    "id": "QQK3h6h6Hihj",
    "outputId": "75e01d22-7959-4b48-923f-f757228b7a03"
   },
   "outputs": [],
   "source": [
    "pivot_df = df.pivot_table(index=['カテゴリー'], values=['サービス','立地','部屋','設備・アメニティ','風呂','食事','総合'], margins=False, aggfunc='mean', dropna=True)\n",
    "display(pivot_df.loc[:,['サービス','立地','部屋','設備・アメニティ','風呂','食事','総合']].style.format('{:.2f}').background_gradient(axis=None))"
   ]
  },
  {
   "cell_type": "markdown",
   "metadata": {
    "id": "pfQ9Sd-WHihj"
   },
   "source": [
    "#### (9)数値評価の平均 (年代x性別)"
   ]
  },
  {
   "cell_type": "markdown",
   "metadata": {
    "id": "bqATOCqDHihj"
   },
   "source": [
    "20~30代"
   ]
  },
  {
   "cell_type": "code",
   "execution_count": null,
   "metadata": {
    "colab": {
     "base_uri": "https://localhost:8080/",
     "height": 206
    },
    "executionInfo": {
     "elapsed": 2,
     "status": "ok",
     "timestamp": 1749513895506,
     "user": {
      "displayName": "Tomohiko HARADA",
      "userId": "07397760701028463631"
     },
     "user_tz": -540
    },
    "id": "qHMAD6yqHihk",
    "outputId": "15c68a3b-15b7-4f56-d147-9b4d8a3e9d2b"
   },
   "outputs": [],
   "source": [
    "pivot_df = df[df['年代'].isin(['20代','30代'])].pivot_table(index=['カテゴリー','性別'], values=['サービス','立地','部屋','設備・アメニティ','風呂','食事','総合'], margins=False, aggfunc='mean', dropna=True)\n",
    "display(pivot_df.loc[(['A_レジャー','B_ビジネス'],['男性','女性']),['サービス','立地','部屋','設備・アメニティ','風呂','食事','総合']].style.format('{:.2f}').background_gradient(axis=None))"
   ]
  },
  {
   "cell_type": "markdown",
   "metadata": {
    "id": "bi68qzdNHihk"
   },
   "source": [
    "40~50代"
   ]
  },
  {
   "cell_type": "code",
   "execution_count": null,
   "metadata": {
    "colab": {
     "base_uri": "https://localhost:8080/",
     "height": 206
    },
    "executionInfo": {
     "elapsed": 8,
     "status": "ok",
     "timestamp": 1749513895514,
     "user": {
      "displayName": "Tomohiko HARADA",
      "userId": "07397760701028463631"
     },
     "user_tz": -540
    },
    "id": "e4zBkjj7Hihk",
    "outputId": "ea071295-f0b0-48b6-d336-ee9a6f7d6182"
   },
   "outputs": [],
   "source": [
    "pivot_df = df[df['年代'].isin(['40代','50代'])].pivot_table(index=['カテゴリー','性別'], values=['サービス','立地','部屋','設備・アメニティ','風呂','食事','総合'], margins=False, aggfunc='mean', dropna=True)\n",
    "display(pivot_df.loc[(['A_レジャー','B_ビジネス'],['男性','女性']),['サービス','立地','部屋','設備・アメニティ','風呂','食事','総合']].style.format('{:.2f}').background_gradient(axis=None))"
   ]
  },
  {
   "cell_type": "markdown",
   "metadata": {
    "id": "8cFK_ycoHihk"
   },
   "source": [
    "60~80代"
   ]
  },
  {
   "cell_type": "code",
   "execution_count": null,
   "metadata": {
    "colab": {
     "base_uri": "https://localhost:8080/",
     "height": 206
    },
    "executionInfo": {
     "elapsed": 38,
     "status": "ok",
     "timestamp": 1749513895553,
     "user": {
      "displayName": "Tomohiko HARADA",
      "userId": "07397760701028463631"
     },
     "user_tz": -540
    },
    "id": "ZT1063COHihk",
    "outputId": "6fe138e8-26b6-410a-bcd1-f032070d2647"
   },
   "outputs": [],
   "source": [
    "pivot_df = df[df['年代'].isin(['60代','70代','80代'])].pivot_table(index=['カテゴリー','性別'], values=['サービス','立地','部屋','設備・アメニティ','風呂','食事','総合'], margins=False, aggfunc='mean', dropna=True)\n",
    "display(pivot_df.loc[(['A_レジャー','B_ビジネス'],['男性','女性']),['サービス','立地','部屋','設備・アメニティ','風呂','食事','総合']].style.format('{:.2f}').background_gradient(axis=None))"
   ]
  }
 ],
 "metadata": {
  "colab": {
   "provenance": []
  },
  "kernelspec": {
   "display_name": ".venv",
   "language": "python",
   "name": "python3"
  },
  "language_info": {
   "codemirror_mode": {
    "name": "ipython",
    "version": 3
   },
   "file_extension": ".py",
   "mimetype": "text/x-python",
   "name": "python",
   "nbconvert_exporter": "python",
   "pygments_lexer": "ipython3",
   "version": "3.11.12"
  }
 },
 "nbformat": 4,
 "nbformat_minor": 0
}
