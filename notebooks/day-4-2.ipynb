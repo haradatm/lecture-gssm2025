{
 "cells": [
  {
   "cell_type": "markdown",
   "id": "ca6f6ed6-79e9-4efc-836a-040000ce8c89",
   "metadata": {
    "id": "ca6f6ed6-79e9-4efc-836a-040000ce8c89",
    "tags": []
   },
   "source": [
    "# day 4-2"
   ]
  },
  {
   "cell_type": "markdown",
   "id": "1282b9a6",
   "metadata": {
    "id": "1282b9a6"
   },
   "source": [
    "このノートブックの実行例は[こちら(HTML版)](lecture-gssm2025/notebooks-sample/day-4-2.html)で確認できます"
   ]
  },
  {
   "cell_type": "markdown",
   "id": "b2b9e8de",
   "metadata": {
    "id": "b2b9e8de"
   },
   "source": [
    "---"
   ]
  },
  {
   "cell_type": "markdown",
   "id": "a0f10b59",
   "metadata": {
    "id": "a0f10b59"
   },
   "source": [
    "## 0. 準備"
   ]
  },
  {
   "cell_type": "markdown",
   "id": "00ecd922",
   "metadata": {
    "id": "00ecd922"
   },
   "source": [
    "### 0.1 必要なパッケージのインストール"
   ]
  },
  {
   "cell_type": "code",
   "execution_count": null,
   "id": "2f3a07dc",
   "metadata": {
    "id": "2f3a07dc"
   },
   "outputs": [],
   "source": [
    "%%capture\n",
    "!sudo apt-get update\n",
    "!sudo apt-get install -y automake autoconf perl libtool graphviz libgraphviz-dev\n",
    "!pip install -U japanize_matplotlib pyvis pygraphviz mca"
   ]
  },
  {
   "cell_type": "markdown",
   "id": "61af5e57",
   "metadata": {
    "id": "61af5e57"
   },
   "source": [
    "教材のダウンロード"
   ]
  },
  {
   "cell_type": "code",
   "execution_count": null,
   "id": "682768ad",
   "metadata": {
    "colab": {
     "base_uri": "https://localhost:8080/"
    },
    "id": "682768ad",
    "outputId": "808d7c07-d4d8-454f-b2c2-f1c9f229f4ca"
   },
   "outputs": [],
   "source": [
    "!git clone https://github.com/haradatm/lecture-gssm2025"
   ]
  },
  {
   "cell_type": "code",
   "execution_count": null,
   "id": "6ab4b280",
   "metadata": {
    "colab": {
     "base_uri": "https://localhost:8080/"
    },
    "id": "6ab4b280",
    "outputId": "470d01f0-7c91-4849-edc1-018313d295ca"
   },
   "outputs": [],
   "source": [
    "!ln -s lecture-gssm2025/notebooks/gssm_utils.py ."
   ]
  },
  {
   "cell_type": "markdown",
   "id": "b3da29da",
   "metadata": {
    "id": "b3da29da"
   },
   "source": [
    "### 0.2 MeCab インストール (時間目安: 約3分)"
   ]
  },
  {
   "cell_type": "code",
   "execution_count": null,
   "id": "632464e5",
   "metadata": {
    "colab": {
     "base_uri": "https://localhost:8080/"
    },
    "id": "632464e5",
    "outputId": "08aaa19b-85e5-461a-abcc-ca3233765563"
   },
   "outputs": [],
   "source": [
    "%%time\n",
    "!bash lecture-gssm2025/scripts/install_mecab.sh >> install_mecab.log 2>&1\n",
    "!tail -n 1 install_mecab.log"
   ]
  },
  {
   "cell_type": "markdown",
   "id": "4ac18730",
   "metadata": {
    "id": "4ac18730"
   },
   "source": [
    "### 0.3 CaboCha インストール (時間目安: 約4分)"
   ]
  },
  {
   "cell_type": "code",
   "execution_count": null,
   "id": "d90231f2",
   "metadata": {
    "colab": {
     "base_uri": "https://localhost:8080/"
    },
    "id": "d90231f2",
    "outputId": "e4d714f4-4d21-4e37-e9bb-c58a8e0d7982"
   },
   "outputs": [],
   "source": [
    "%%time\n",
    "!bash lecture-gssm2025/scripts/install_cabocha.sh >> install_cabocha.log 2>&1\n",
    "!tail -n 1 install_cabocha.log"
   ]
  },
  {
   "cell_type": "markdown",
   "id": "17861e6e",
   "metadata": {
    "id": "17861e6e"
   },
   "source": [
    "### 0.4 セッションの再起動"
   ]
  },
  {
   "cell_type": "code",
   "execution_count": null,
   "id": "eaa5a3d7",
   "metadata": {
    "id": "eaa5a3d7"
   },
   "outputs": [],
   "source": [
    "import os\n",
    "os.kill(os.getpid(), 9)"
   ]
  },
  {
   "cell_type": "markdown",
   "id": "7c81d07e",
   "metadata": {},
   "source": [
    "---"
   ]
  },
  {
   "cell_type": "code",
   "execution_count": null,
   "id": "a0e5e1e4",
   "metadata": {},
   "outputs": [],
   "source": [
    "%load_ext autoreload\n",
    "%autoreload 2\n",
    "\n",
    "import os\n",
    "import random\n",
    "import numpy as np\n",
    "\n",
    "# 再現性のために乱数を固定する\n",
    "seed = 42\n",
    "os.environ['PYTHONHASHSEED'] = str(seed)\n",
    "np.random.seed(seed)\n",
    "random.seed(seed)"
   ]
  },
  {
   "cell_type": "markdown",
   "id": "22fb2f36",
   "metadata": {},
   "source": [
    "### 0.5 辞書登録"
   ]
  },
  {
   "cell_type": "markdown",
   "id": "62190683",
   "metadata": {},
   "source": [
    "追加したい形態素の情報を CSV ファイル(user_dic.csv)に追記する"
   ]
  },
  {
   "cell_type": "code",
   "execution_count": null,
   "id": "f17cd3dd",
   "metadata": {},
   "outputs": [],
   "source": [
    "!echo '\"泉質\",-1,-1,1,名詞,一般,*,*,*,*,泉質,センシツ,センシツ,USER\"' >> ./tools/usr/local/lib/mecab/dic/ipadic/user_dic.csv\n",
    "!echo '\"海鮮丼\",-1,-1,1,名詞,一般,*,*,*,*,海鮮丼,カイセンドン,カイセンドン,USER\"' >> ./tools/usr/local/lib/mecab/dic/ipadic/user_dic.csv\n",
    "!echo '\"スカイツリー\",-1,-1,1,名詞,一般,*,*,*,*,スカイツリー,スカイツリー,スカイツリー,USER\"' >> ./tools/usr/local/lib/mecab/dic/ipadic/user_dic.csv\n",
    "!echo '\"バスタオル\",-1,-1,1,名詞,一般,*,*,*,*,バスタオル,バスタオル,バスタオル,USER\"' >> ./tools/usr/local/lib/mecab/dic/ipadic/user_dic.csv\n",
    "!cat ./tools/usr/local/lib/mecab/dic/ipadic/user_dic.csv"
   ]
  },
  {
   "cell_type": "markdown",
   "id": "82d19aa9",
   "metadata": {},
   "source": [
    "CSVファイル(user_dic.csv)をコンパイルして辞書(user.dic)を作成する"
   ]
  },
  {
   "cell_type": "code",
   "execution_count": null,
   "id": "75b34c3e",
   "metadata": {},
   "outputs": [],
   "source": [
    "!./tools/usr/local/libexec/mecab/mecab-dict-index \\\n",
    "-d ./tools/usr/local/lib/mecab/dic/ipadic \\\n",
    "-u ./tools/usr/local/lib/mecab/dic/ipadic/user.dic \\\n",
    "-f utf-8 -t utf-8 \\\n",
    "./tools/usr/local/lib/mecab/dic/ipadic/user_dic.csv"
   ]
  },
  {
   "cell_type": "markdown",
   "id": "0caddf36",
   "metadata": {},
   "source": [
    "### 0.6 確認"
   ]
  },
  {
   "cell_type": "code",
   "execution_count": null,
   "id": "4b1e9040",
   "metadata": {},
   "outputs": [],
   "source": [
    "import MeCab\n",
    "tagger = MeCab.Tagger(\"-r ./tools/usr/local/etc/mecabrc\")\n",
    "\n",
    "print(tagger.parse(\"この泉質は極上です\"))\n",
    "print(tagger.parse(\"この海鮮丼は美味しいです\"))\n",
    "print(tagger.parse(\"近くにスカイツリーがあります\"))\n",
    "print(tagger.parse(\"浴室にバスタオルがありません\"))"
   ]
  },
  {
   "cell_type": "code",
   "execution_count": null,
   "id": "184decda",
   "metadata": {},
   "outputs": [],
   "source": [
    "import CaboCha\n",
    "\n",
    "cp = CaboCha.Parser(\"-r ./tools/usr/local/etc/cabocharc\")\n",
    "print(cp.parse(\"この泉質は極上です\").toString(CaboCha.FORMAT_LATTICE))\n",
    "print(cp.parse(\"この海鮮丼は美味しいです\").toString(CaboCha.FORMAT_LATTICE))\n",
    "print(cp.parse(\"近くにスカイツリーがあります\").toString(CaboCha.FORMAT_LATTICE))\n",
    "print(cp.parse(\"浴室にバスタオルがありません\").toString(CaboCha.FORMAT_LATTICE))"
   ]
  },
  {
   "cell_type": "markdown",
   "id": "149e571b",
   "metadata": {
    "id": "149e571b"
   },
   "source": [
    "---"
   ]
  },
  {
   "cell_type": "markdown",
   "id": "8038e0af-8843-493e-831f-2bceee5b6656",
   "metadata": {
    "id": "8038e0af-8843-493e-831f-2bceee5b6656"
   },
   "source": [
    "## 1. テキスト分析 (2)"
   ]
  },
  {
   "cell_type": "markdown",
   "id": "110e3e63",
   "metadata": {
    "id": "110e3e63"
   },
   "source": [
    "### 1.0 事前準備"
   ]
  },
  {
   "cell_type": "markdown",
   "id": "bfad7a6b",
   "metadata": {
    "id": "bfad7a6b"
   },
   "source": [
    "#### 1.0.1 定義済み関数の読み込み"
   ]
  },
  {
   "cell_type": "markdown",
   "id": "f4cb3e5b",
   "metadata": {
    "id": "f4cb3e5b"
   },
   "source": [
    "以下のセルを**修正せず**に実行してください"
   ]
  },
  {
   "cell_type": "code",
   "execution_count": null,
   "id": "74b83452",
   "metadata": {
    "id": "74b83452"
   },
   "outputs": [],
   "source": [
    "import warnings\n",
    "warnings.simplefilter('ignore')\n",
    "\n",
    "import gssm_utils\n",
    "\n",
    "%matplotlib inline"
   ]
  },
  {
   "cell_type": "markdown",
   "id": "1867f595",
   "metadata": {
    "id": "1867f595"
   },
   "source": [
    "#### 1.0.1 データのダウンロード"
   ]
  },
  {
   "cell_type": "markdown",
   "id": "2368d5e8",
   "metadata": {
    "id": "2368d5e8"
   },
   "source": [
    "以下のデータがダウンロード済みです"
   ]
  },
  {
   "cell_type": "markdown",
   "id": "4f0601b9",
   "metadata": {
    "id": "4f0601b9"
   },
   "source": [
    "| ファイル名 | 件数 | データセット | 備考 |\n",
    "| --- | --- | --- | --- |\n",
    "| rakuten-1000-2024-2025.xlsx.zip | 10,000 | •レジャー+ビジネスの 10エリア<br>•エリアごと 1,000件 (ランダムサンプリング)<br>•期間: 2024/1~2025 GW明け | 本講義の全体を通して使用する |"
   ]
  },
  {
   "cell_type": "code",
   "execution_count": null,
   "id": "2f782a1a",
   "metadata": {
    "colab": {
     "base_uri": "https://localhost:8080/"
    },
    "id": "2f782a1a",
    "outputId": "96ec0a6c-1caf-4105-cdd8-3e0ea4231c85"
   },
   "outputs": [],
   "source": [
    "# rakuten-1000-2024-2025.xlsx.zip をダウンロードする\n",
    "FILE_ID = \"1yKabZ7qJMRrIrP4Vtq-RrSZAqFsZriQS\"\n",
    "!gdown {FILE_ID}\n",
    "!unzip -o rakuten-1000-2024-2025.xlsx.zip"
   ]
  },
  {
   "cell_type": "markdown",
   "id": "6bba6d12",
   "metadata": {
    "id": "6bba6d12"
   },
   "source": [
    "#### 1.0.2 データの読み込み (DataFrame型)"
   ]
  },
  {
   "cell_type": "code",
   "execution_count": null,
   "id": "21af64cf",
   "metadata": {
    "colab": {
     "base_uri": "https://localhost:8080/",
     "height": 520
    },
    "id": "21af64cf",
    "outputId": "79587221-1d04-4226-d49a-2a74bc97e0f7"
   },
   "outputs": [],
   "source": [
    "import numpy as np\n",
    "import pandas as pd\n",
    "\n",
    "all_df = pd.read_excel(\"rakuten-1000-2024-2025.xlsx\")\n",
    "print(all_df.shape)\n",
    "display(all_df.head())"
   ]
  },
  {
   "cell_type": "markdown",
   "id": "46c983a2",
   "metadata": {
    "id": "46c983a2"
   },
   "source": [
    "#### 1.0.3 「文書-抽出語」表 を作成する"
   ]
  },
  {
   "cell_type": "markdown",
   "id": "6e99c1ac",
   "metadata": {
    "id": "6e99c1ac"
   },
   "source": [
    "コメント列から単語を抽出する (単語を品詞「名詞」「形容詞」「未知語」で絞り込む)"
   ]
  },
  {
   "cell_type": "code",
   "execution_count": null,
   "id": "9f750bf2",
   "metadata": {
    "colab": {
     "base_uri": "https://localhost:8080/",
     "height": 225
    },
    "id": "9f750bf2",
    "outputId": "f2efffbb-822e-4b5e-d42a-a4ac30ab4c98"
   },
   "outputs": [],
   "source": [
    "# 必要ライブラリのインポート\n",
    "from collections import defaultdict\n",
    "import MeCab\n",
    "\n",
    "# mecab の初期化\n",
    "tagger = MeCab.Tagger(\"-r ./tools/usr/local/etc/mecabrc --unk-feature 未知語\")\n",
    "\n",
    "# 単語頻度辞書の初期化\n",
    "word_counts = defaultdict(lambda: 0)\n",
    "\n",
    "# 抽出語情報リストの初期化\n",
    "words = []\n",
    "\n",
    "# 半角->全角変換マクロを定義する\n",
    "ZEN = \"\".join(chr(0xff01 + i) for i in range(94))\n",
    "HAN = \"\".join(chr(0x21 + i) for i in range(94))\n",
    "HAN2ZEN = str.maketrans(HAN, ZEN)\n",
    "\n",
    "# ストップワードを定義する\n",
    "# stopwords = ['する', 'ある', 'ない', 'いう', 'もの', 'こと', 'よう', 'なる', 'ほう']\n",
    "stopwords = [\"湯畑\"]\n",
    "\n",
    "# データ1行ごとのループ\n",
    "for index, row in all_df.iterrows():\n",
    "\n",
    "    # 半角->全角変換した後で, mecab で解析する\n",
    "    node = tagger.parseToNode(row[\"コメント\"].translate(HAN2ZEN))\n",
    "\n",
    "    # 形態素ごとのループ\n",
    "    while node:\n",
    "        # 解析結果を要素ごとにバラす\n",
    "        features = node.feature.split(',')\n",
    "\n",
    "        # 品詞1 を取り出す\n",
    "        pos1 = features[0]\n",
    "\n",
    "        # 品詞2 を取り出す\n",
    "        pos2 = features[1] if len(features) > 1 else \"\"\n",
    "\n",
    "        # 原形 を取り出す\n",
    "        base = features[6] if len(features) > 6 else None\n",
    "\n",
    "        # 原型がストップワードに含まれない単語のみ抽出する\n",
    "        if base not in stopwords:\n",
    "\n",
    "            # 「名詞-一般」\n",
    "            if (pos1 == \"名詞\" and pos2 == \"一般\"):\n",
    "                base = base if base is not None else node.surface\n",
    "                postag = \"名詞\"\n",
    "                key = (base, postag)\n",
    "\n",
    "                # 単語頻度辞書をカウントアップする\n",
    "                word_counts[key] += 1\n",
    "\n",
    "                # 抽出語情報をリストに追加する\n",
    "                words.append([index + 1, base, postag, row[\"カテゴリー\"], row[\"エリア\"], key])\n",
    "\n",
    "            # 「形容動詞」\n",
    "            elif (pos1 == \"名詞\" and pos2 == \"形容動詞語幹\"):\n",
    "                base = base if base is not None else node.surface\n",
    "                base = f\"{base}\"\n",
    "                postag = \"形容動詞\"\n",
    "                key = (base, postag)\n",
    "\n",
    "                # 単語頻度辞書をカウントアップする\n",
    "                word_counts[key] += 1\n",
    "\n",
    "                # 抽出語情報をリストに追加する\n",
    "                words.append([index + 1, base, postag, row[\"カテゴリー\"], row[\"エリア\"], key])\n",
    "\n",
    "            # 「形容詞」\n",
    "            elif pos1 == \"形容詞\":\n",
    "                base = base if base is not None else node.surface\n",
    "                postag = \"形容詞\"\n",
    "                key = (base, postag)\n",
    "\n",
    "                # 単語頻度辞書をカウントアップする\n",
    "                word_counts[key] += 1\n",
    "\n",
    "                # 抽出語情報をリストに追加する\n",
    "                words.append([index + 1, base, postag, row[\"カテゴリー\"], row[\"エリア\"], key])\n",
    "\n",
    "            # 「未知語」\n",
    "            elif pos1 == \"未知語\":\n",
    "                base = base if base is not None else node.surface\n",
    "                postag = \"未知語\"\n",
    "                key = (base, postag)\n",
    "\n",
    "                # 単語頻度辞書をカウントアップする\n",
    "                word_counts[key] += 1\n",
    "\n",
    "                # 抽出語情報をリストに追加する\n",
    "                words.append([index + 1, base, postag, row[\"カテゴリー\"], row[\"エリア\"], key])\n",
    "\n",
    "        # 次の形態素へ\n",
    "        node = node.next\n",
    "\n",
    "# DataFrme 型に整える\n",
    "columns = [\n",
    "    \"文書ID\",\n",
    "    # \"単語ID\",\n",
    "    \"表層\",\n",
    "    \"品詞\",\n",
    "    \"カテゴリー\",\n",
    "    \"エリア\",\n",
    "    \"dict_key\",\n",
    "]\n",
    "docs_df = pd.DataFrame(words, columns=columns)\n",
    "\n",
    "# DataFrame を表示する\n",
    "print(docs_df.shape)\n",
    "display(docs_df.head())"
   ]
  },
  {
   "cell_type": "markdown",
   "id": "9acea1bc",
   "metadata": {
    "id": "9acea1bc"
   },
   "source": [
    "抽出語の出現頻度をカウントする"
   ]
  },
  {
   "cell_type": "code",
   "execution_count": null,
   "id": "d1e05e96",
   "metadata": {
    "colab": {
     "base_uri": "https://localhost:8080/",
     "height": 381
    },
    "id": "d1e05e96",
    "outputId": "b6f4d95a-e5fe-4652-c91d-e12475f13ea3"
   },
   "outputs": [],
   "source": [
    "# 「文書-抽出語」 表から単語の出現回数をカウントする\n",
    "word_list = []\n",
    "for i, (k, v) in enumerate(sorted(word_counts.items(), key=lambda x:x[1], reverse=True)):\n",
    "    word_list.append((i, k[0], v, k))\n",
    "\n",
    "# DataFrame 型に整える\n",
    "columns = [\n",
    "    \"単語ID\",\n",
    "    \"表層\",\n",
    "    \"出現頻度\",\n",
    "    \"dict_key\"\n",
    "]\n",
    "\n",
    "# DataFrame を表示する\n",
    "word_counts_df = pd.DataFrame(word_list, columns=columns)\n",
    "print(word_counts_df.shape)\n",
    "display(word_counts_df.head(10))"
   ]
  },
  {
   "cell_type": "markdown",
   "id": "c61ec9a1",
   "metadata": {
    "id": "c61ec9a1"
   },
   "source": [
    "### 1.1 カテゴリーやエリアごとのユーザーの注目ポイントを押さえる"
   ]
  },
  {
   "cell_type": "markdown",
   "id": "9787d1e6",
   "metadata": {
    "id": "9787d1e6"
   },
   "source": [
    "#### 2.1.1 「文書-抽出語」表の作成"
   ]
  },
  {
   "cell_type": "code",
   "execution_count": null,
   "id": "e31148e8",
   "metadata": {
    "colab": {
     "base_uri": "https://localhost:8080/",
     "height": 473
    },
    "id": "e31148e8",
    "outputId": "ea5fc819-a551-43fb-c4e5-fd60d371d041"
   },
   "outputs": [],
   "source": [
    "# 「単語出現回数」 表から出現回数Top 1000語のみ抽出する\n",
    "word_counts_1000_df = word_counts_df[0:1000]\n",
    "\n",
    "# 「文書-抽出語」 表も出現回数Top 150語のみに絞り込む\n",
    "merged_df = pd.merge(docs_df, word_counts_1000_df, how=\"inner\", on=\"dict_key\", suffixes=[\"\", \"_right\"])\n",
    "docs_1000_df = merged_df[[\"文書ID\", \"単語ID\", \"表層\", \"品詞\", \"カテゴリー\", \"エリア\", \"dict_key\"]]\n",
    "\n",
    "# 「カテゴリー,エリア」でクロス集計する\n",
    "cross_1000_df = pd.crosstab(\n",
    "    [\n",
    "        docs_1000_df['カテゴリー'],\n",
    "        docs_1000_df['エリア'],\n",
    "        docs_1000_df['文書ID']\n",
    "    ],\n",
    "    docs_1000_df['単語ID'], margins=False\n",
    ")\n",
    "cross_1000_df.columns = word_counts_1000_df[\"表層\"]\n",
    "\n",
    "# DataFrame を表示する\n",
    "print(cross_1000_df.shape)\n",
    "display(cross_1000_df)"
   ]
  },
  {
   "cell_type": "markdown",
   "id": "cb4bedc2",
   "metadata": {
    "id": "cb4bedc2"
   },
   "source": [
    "「文書-抽出語」表を {0,1} に変換する"
   ]
  },
  {
   "cell_type": "code",
   "execution_count": null,
   "id": "bb5417b1",
   "metadata": {
    "colab": {
     "base_uri": "https://localhost:8080/",
     "height": 473
    },
    "id": "bb5417b1",
    "outputId": "698c1327-9cc5-4e1e-8269-468e4384c8ca"
   },
   "outputs": [],
   "source": [
    "# 「文書-抽出語」 表を {0,1} に変換する\n",
    "cross_1000_df[cross_1000_df > 0] = 1\n",
    "\n",
    "# DataFrame を表示する\n",
    "print(cross_1000_df.shape)\n",
    "display(cross_1000_df)"
   ]
  },
  {
   "cell_type": "markdown",
   "id": "0a445d8f",
   "metadata": {
    "id": "0a445d8f"
   },
   "source": [
    "#### 2.1.2 共起行列を作成する (外部変数-抽出語)"
   ]
  },
  {
   "cell_type": "code",
   "execution_count": null,
   "id": "777fb016",
   "metadata": {
    "colab": {
     "base_uri": "https://localhost:8080/",
     "height": 473
    },
    "id": "777fb016",
    "outputId": "3c60ef1b-e834-43bd-d0ae-5b430f084fd2"
   },
   "outputs": [],
   "source": [
    "# 「カテゴリー」のクロス集計と「エリア」のクロス集計を連結する\n",
    "aggregate_df = pd.concat(\n",
    "    [\n",
    "        cross_1000_df.groupby(level='カテゴリー').sum(),\n",
    "        cross_1000_df.groupby(level='エリア').sum()\n",
    "    ]\n",
    ")\n",
    "\n",
    "# DataFrame を表示する\n",
    "print(aggregate_df.shape)\n",
    "display(aggregate_df)"
   ]
  },
  {
   "cell_type": "markdown",
   "id": "1025980b",
   "metadata": {
    "id": "1025980b"
   },
   "source": [
    "#### 2.1.3 Jaccard 係数を求める (外部変数-抽出語)"
   ]
  },
  {
   "cell_type": "code",
   "execution_count": null,
   "id": "bdbcae8b",
   "metadata": {
    "colab": {
     "base_uri": "https://localhost:8080/",
     "height": 1000
    },
    "id": "bdbcae8b",
    "outputId": "20015561-9312-4f1b-c418-0b5e865f4b80"
   },
   "outputs": [],
   "source": [
    "# 抽出語の出現回数を取得する\n",
    "word_counts = cross_1000_df.sum(axis=0).values\n",
    "\n",
    "# 属性(外部変数)出現数を取得する\n",
    "attr_counts = np.hstack(\n",
    "    [\n",
    "        all_df.value_counts('カテゴリー').values,\n",
    "        all_df.value_counts('エリア').values\n",
    "    ]\n",
    ")\n",
    "\n",
    "# 共起行列の中身を Jaccard 係数に入れ替える\n",
    "jaccard_attrs_df = gssm_utils.jaccard_attrs_coef(aggregate_df, attr_counts, word_counts, total=10000, conditional=False)\n",
    "\n",
    "# DataFrame を表示する\n",
    "print(jaccard_attrs_df.shape)\n",
    "display(jaccard_attrs_df)"
   ]
  },
  {
   "cell_type": "markdown",
   "id": "05ed2dae",
   "metadata": {
    "id": "05ed2dae"
   },
   "source": [
    "#### 2.1.4 特徴語ランキング"
   ]
  },
  {
   "cell_type": "code",
   "execution_count": null,
   "id": "ca40de3d",
   "metadata": {
    "colab": {
     "base_uri": "https://localhost:8080/",
     "height": 846
    },
    "id": "ca40de3d",
    "outputId": "d06ade8a-01fa-4c1e-b54c-a497280be179"
   },
   "outputs": [],
   "source": [
    "# 「カテゴリ」や「エリア」ごとに Jaccard 係数のTop 10語を抽出する\n",
    "df_list = []\n",
    "for index, row in jaccard_attrs_df.iterrows():\n",
    "    df_list.append(row.iloc[np.argsort(row.values)[::-1][:10]].reset_index())\n",
    "\n",
    "# 「カテゴリ」や「エリア」ごとの Jaccard 係数のTop 10 を横方向に連結した DetaFrame を作成する\n",
    "ranking_df = pd.DataFrame(pd.concat(df_list, axis=1))\n",
    "ranking_df.columns = np.array([c for pair in [[x,f\"jaccard\"] for x in jaccard_attrs_df.index] for c in pair], dtype='object')\n",
    "\n",
    "# DataFrame を表示する\n",
    "display(ranking_df)"
   ]
  },
  {
   "cell_type": "markdown",
   "id": "c815a9f0",
   "metadata": {
    "id": "c815a9f0"
   },
   "source": [
    "ファイルに出力する"
   ]
  },
  {
   "cell_type": "code",
   "execution_count": null,
   "id": "08073bf0",
   "metadata": {
    "id": "08073bf0"
   },
   "outputs": [],
   "source": [
    "ranking_df.to_csv(\"practice-4.tsv\", sep=\"\\t\")"
   ]
  },
  {
   "cell_type": "markdown",
   "id": "b33eb5b8",
   "metadata": {
    "id": "b33eb5b8"
   },
   "source": [
    "#### 2.1.5 ワードクラウド"
   ]
  },
  {
   "cell_type": "code",
   "execution_count": null,
   "id": "0461f63d",
   "metadata": {
    "colab": {
     "base_uri": "https://localhost:8080/",
     "height": 917
    },
    "id": "0461f63d",
    "outputId": "3938713b-0e33-4af4-8d15-945f4a446a80"
   },
   "outputs": [],
   "source": [
    "import matplotlib.pyplot as plt\n",
    "%matplotlib inline\n",
    "\n",
    "# サブルーチン\n",
    "def sort_and_plot(name, group):\n",
    "\n",
    "    # 「カテゴリー」ごとに Jaccard 係数でソートする\n",
    "    sorted_columns = np.argsort(jaccard_attrs_df.loc[name].values)[::-1][:75]\n",
    "\n",
    "    # Jaccard 係数Top 75語をソートして抽出する\n",
    "    group_cross_df = group.iloc[:,sorted_columns]\n",
    "\n",
    "    # プロットする\n",
    "    ax = fig.add_subplot(4, 3, i+1)\n",
    "    gssm_utils.plot_wordcloud_ax(ax, \" \".join(group_cross_df.columns))\n",
    "    ax.set_title(name)\n",
    "\n",
    "\n",
    "# プロットの準備\n",
    "fig = plt.figure(figsize=(12, 9))\n",
    "\n",
    "i = 0\n",
    "# カテゴリごとのループ\n",
    "for name, group in cross_1000_df.groupby(level='カテゴリー'):\n",
    "    # サブルーチンを呼ぶ\n",
    "    sort_and_plot(name, group)\n",
    "    i += 1\n",
    "\n",
    "    # エリアごとのループ\n",
    "    for sub_name, sub_group in group.groupby(level='エリア'):\n",
    "        # サブルーチンを呼ぶ\n",
    "        sort_and_plot(sub_name, sub_group)\n",
    "        i += 1\n",
    "\n",
    "# プロットの仕上げ\n",
    "plt.tight_layout()\n",
    "plt.show()"
   ]
  },
  {
   "cell_type": "markdown",
   "id": "19c023d1",
   "metadata": {
    "id": "19c023d1"
   },
   "source": [
    "#### 2.1.6 共起ネットワーク図 (カテゴリ)"
   ]
  },
  {
   "cell_type": "code",
   "execution_count": null,
   "id": "223b946b",
   "metadata": {
    "colab": {
     "base_uri": "https://localhost:8080/",
     "height": 653
    },
    "id": "223b946b",
    "outputId": "7b40c93e-96ea-4ab2-d5d3-1110fe07086f"
   },
   "outputs": [],
   "source": [
    "# 抽出語の出現回数を取得する\n",
    "word_counts = cross_1000_df.sum(axis=0).values\n",
    "\n",
    "# 属性(外部変数)出現数を取得する\n",
    "attr_counts = np.hstack(\n",
    "    [\n",
    "        all_df.value_counts('カテゴリー').values,\n",
    "    ]\n",
    ")\n",
    "\n",
    "# カテゴリのみの共起行列(共起度数)を取得する\n",
    "df = aggregate_df.loc[[\"A_レジャー\",\"B_ビジネス\"],:]\n",
    "\n",
    "# 共起行列(共起度数)で共起ネットワーク図を作成する\n",
    "gssm_utils.plot_attrs_network(df, attr_counts, word_counts, np.sort(df.values.reshape(-1))[::-1][60], width=8, height=8)"
   ]
  },
  {
   "cell_type": "markdown",
   "id": "a2e61e76",
   "metadata": {
    "id": "a2e61e76"
   },
   "source": [
    "#### 2.1.7 共起ネットワーク図 (エリア)"
   ]
  },
  {
   "cell_type": "code",
   "execution_count": null,
   "id": "4968378b",
   "metadata": {
    "colab": {
     "base_uri": "https://localhost:8080/",
     "height": 1000
    },
    "id": "4968378b",
    "outputId": "7d7eae46-294e-4f88-fec1-bdff1405861f"
   },
   "outputs": [],
   "source": [
    "# 抽出語の出現回数を取得する\n",
    "word_counts = cross_1000_df.sum(axis=0).values\n",
    "\n",
    "# 属性(外部変数)出現数を取得する\n",
    "attr_counts = np.hstack(\n",
    "    [\n",
    "        all_df.value_counts('エリア').values,\n",
    "    ]\n",
    ")\n",
    "\n",
    "# カテゴリのみの共起行列(共起度数)を取得する\n",
    "df = aggregate_df.iloc[2:,:]\n",
    "\n",
    "# 共起行列((共起度数)で共起ネットワーク図を作成する\n",
    "gssm_utils.plot_attrs_network(df, attr_counts, word_counts, np.sort(df.values.reshape(-1))[::-1][120], width=8, height=8, pyvis=True)"
   ]
  },
  {
   "cell_type": "markdown",
   "id": "9b5672dd",
   "metadata": {
    "id": "9b5672dd"
   },
   "source": [
    "#### 2.1.8 トピックを抽出する (LDA)"
   ]
  },
  {
   "cell_type": "code",
   "execution_count": null,
   "id": "3e7a2c1f",
   "metadata": {
    "colab": {
     "base_uri": "https://localhost:8080/"
    },
    "id": "3e7a2c1f",
    "outputId": "2a670e70-0b12-4562-b174-b07e2ab81224"
   },
   "outputs": [],
   "source": [
    "# 必要ライブラリのインポート\n",
    "from sklearn.decomposition import LatentDirichletAllocation as LDA\n",
    "\n",
    "# ライブラリ LDA によるトピック抽出\n",
    "lda = LDA(max_iter=25, learning_method='batch', random_state=42, n_jobs=-1, n_components=6)\n",
    "lda.fit(cross_1000_df.values)\n",
    "\n",
    "# トピックごとに出現確率Top 20語を表示する\n",
    "n_top_words = 20\n",
    "feature_names = cross_1000_df.columns\n",
    "for topic_idx, topic in enumerate(lda.components_):\n",
    "    print(f\"Topic # {topic_idx+1}:\", end=\" \")\n",
    "    for i in topic.argsort()[:-n_top_words-1:-1]:\n",
    "        print(feature_names[i], end=\" \")\n",
    "    print()"
   ]
  },
  {
   "cell_type": "markdown",
   "id": "4815bde4",
   "metadata": {
    "id": "4815bde4"
   },
   "source": [
    "ChatGPT を使ってトピックを説明する"
   ]
  },
  {
   "cell_type": "markdown",
   "id": "54008b06",
   "metadata": {
    "id": "54008b06"
   },
   "source": [
    "プロンプトの例:\n",
    "> 以下はトピックとトピックごとの高確率ワードです. これを読んで各トピックの要約を日本語で作成してください.\n",
    ">\n",
    "> Topic # 1\tフロント ホテル 浴場 部屋 親切だ 良い …"
   ]
  },
  {
   "cell_type": "markdown",
   "id": "82dcd7af",
   "metadata": {
    "id": "82dcd7af"
   },
   "source": [
    "結果の例:\n",
    "- トピック 1: ホテルの立地と利便性\n",
    "- トピック 2: ホテルの食事とスタッフのサービス\n",
    "- トピック 3: ホテルの部屋と風呂\n",
    "- トピック 4: 温泉と風呂\n",
    "- トピック 5: ホテルの全体的な評価\n",
    "- トピック 6: 子連れ家族の滞在"
   ]
  },
  {
   "cell_type": "code",
   "execution_count": null,
   "id": "8c1e0ec3",
   "metadata": {
    "colab": {
     "base_uri": "https://localhost:8080/",
     "height": 412
    },
    "id": "8c1e0ec3",
    "outputId": "aadf26c8-9258-41db-c485-d7b21e76fea1"
   },
   "outputs": [],
   "source": [
    "# トピックごとに出現確率Top 75語をプロットする\n",
    "n_top_words = 75\n",
    "gssm_utils.plot_topic_model(lda, feature_names, n_top_words)"
   ]
  },
  {
   "cell_type": "code",
   "execution_count": null,
   "id": "bcd25701",
   "metadata": {
    "colab": {
     "base_uri": "https://localhost:8080/",
     "height": 906
    },
    "id": "bcd25701",
    "outputId": "3b7da3b6-ee37-4768-a83c-2b2653ebe7f8"
   },
   "outputs": [],
   "source": [
    "import matplotlib.pyplot as plt\n",
    "%matplotlib inline\n",
    "\n",
    "# サブルーチン\n",
    "def sort_and_plot(name, group):\n",
    "\n",
    "    # 文書ごとのトピック比率を取得\n",
    "    doc_topic_distributions = lda.transform(group.values)\n",
    "\n",
    "    # 文書全体のトピック比率を計算（平均を取る）\n",
    "    overall_topic_distribution = np.mean(doc_topic_distributions, axis=0)\n",
    "\n",
    "    # プロットする\n",
    "    ax = fig.add_subplot(4, 3, i+1)\n",
    "    gssm_utils.plot_topic_distribution_ax(ax, overall_topic_distribution)\n",
    "    ax.set_title(name)\n",
    "\n",
    "# プロットの準備\n",
    "fig = plt.figure(figsize=(12, 9))\n",
    "\n",
    "i = 0\n",
    "# カテゴリごとのループ\n",
    "for name, group in cross_1000_df.groupby(level='カテゴリー'):\n",
    "    # サブルーチンを呼ぶ\n",
    "    sort_and_plot(name, group)\n",
    "    i += 1\n",
    "\n",
    "    # エリアごとのループ\n",
    "    for sub_name, sub_group in group.groupby(level='エリア'):\n",
    "        # サブルーチンを呼ぶ\n",
    "        sort_and_plot(sub_name, sub_group)\n",
    "        i += 1\n",
    "\n",
    "# プロットの仕上げ\n",
    "plt.tight_layout()\n",
    "plt.show()"
   ]
  }
 ],
 "metadata": {
  "colab": {
   "provenance": []
  },
  "kernelspec": {
   "display_name": ".venv",
   "language": "python",
   "name": "python3"
  },
  "language_info": {
   "codemirror_mode": {
    "name": "ipython",
    "version": 3
   },
   "file_extension": ".py",
   "mimetype": "text/x-python",
   "name": "python",
   "nbconvert_exporter": "python",
   "pygments_lexer": "ipython3",
   "version": "3.11.12"
  },
  "toc-autonumbering": false
 },
 "nbformat": 4,
 "nbformat_minor": 5
}
