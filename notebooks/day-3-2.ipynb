{
 "cells": [
  {
   "cell_type": "markdown",
   "id": "ca6f6ed6-79e9-4efc-836a-040000ce8c89",
   "metadata": {
    "id": "ca6f6ed6-79e9-4efc-836a-040000ce8c89",
    "tags": []
   },
   "source": [
    "# day 3-2"
   ]
  },
  {
   "cell_type": "markdown",
   "id": "c37b43ff",
   "metadata": {
    "id": "c37b43ff"
   },
   "source": [
    "このノートブックの実行例は[こちら(HTML版)](https://github.com/haradatm/lecture-gssm2025/blob/main/notebooks-samples/day-3-2.html)で確認できます"
   ]
  },
  {
   "cell_type": "markdown",
   "id": "a7303c7b",
   "metadata": {
    "id": "a7303c7b"
   },
   "source": [
    "---"
   ]
  },
  {
   "cell_type": "markdown",
   "id": "acf99fa6",
   "metadata": {
    "id": "acf99fa6"
   },
   "source": [
    "## 0. 準備"
   ]
  },
  {
   "cell_type": "markdown",
   "id": "99e26f5b",
   "metadata": {
    "id": "99e26f5b"
   },
   "source": [
    "### 0.1 必要なパッケージのインストール"
   ]
  },
  {
   "cell_type": "code",
   "execution_count": null,
   "id": "4ce4b60c",
   "metadata": {
    "id": "4ce4b60c"
   },
   "outputs": [],
   "source": [
    "%%capture\n",
    "!sudo apt-get update\n",
    "!sudo apt-get install -y automake autoconf perl libtool graphviz libgraphviz-dev\n",
    "!pip install -U japanize_matplotlib pyvis pygraphviz mca"
   ]
  },
  {
   "cell_type": "markdown",
   "id": "a778ad9e",
   "metadata": {
    "id": "a778ad9e"
   },
   "source": [
    "教材のダウンロード"
   ]
  },
  {
   "cell_type": "code",
   "execution_count": null,
   "id": "4f1ed2aa",
   "metadata": {
    "colab": {
     "base_uri": "https://localhost:8080/"
    },
    "id": "4f1ed2aa",
    "outputId": "f9a94e14-66fd-41f1-cd69-0e03a7bc56e6"
   },
   "outputs": [],
   "source": [
    "!git clone https://github.com/haradatm/lecture-gssm2025"
   ]
  },
  {
   "cell_type": "code",
   "execution_count": null,
   "id": "2c29a590",
   "metadata": {
    "id": "2c29a590"
   },
   "outputs": [],
   "source": [
    "!ln -s lecture-gssm2025/notebooks/gssm_utils.py ."
   ]
  },
  {
   "cell_type": "markdown",
   "id": "ee603129",
   "metadata": {
    "id": "ee603129"
   },
   "source": [
    "### 0.2 MeCab インストール (時間目安: 約3分)"
   ]
  },
  {
   "cell_type": "code",
   "execution_count": null,
   "id": "db24ea1d",
   "metadata": {
    "colab": {
     "base_uri": "https://localhost:8080/"
    },
    "id": "db24ea1d",
    "outputId": "47314b67-9243-40e5-aea2-06e748b952c4"
   },
   "outputs": [],
   "source": [
    "%%time\n",
    "!bash lecture-gssm2025/scripts/install_mecab.sh >> install_mecab.log 2>&1\n",
    "!tail -n 1 install_mecab.log"
   ]
  },
  {
   "cell_type": "markdown",
   "id": "ed53a6f3",
   "metadata": {
    "id": "ed53a6f3"
   },
   "source": [
    "### 0.3 CaboCha インストール (時間目安: 約4分)"
   ]
  },
  {
   "cell_type": "code",
   "execution_count": null,
   "id": "ff984210",
   "metadata": {
    "colab": {
     "base_uri": "https://localhost:8080/"
    },
    "id": "ff984210",
    "outputId": "b06fdef8-bf4f-4533-e5bd-b71ae42abb0e"
   },
   "outputs": [],
   "source": [
    "%%time\n",
    "!bash lecture-gssm2025/scripts/install_cabocha.sh >> install_cabocha.log 2>&1\n",
    "!tail -n 1 install_cabocha.log"
   ]
  },
  {
   "cell_type": "markdown",
   "id": "85137681",
   "metadata": {
    "id": "85137681"
   },
   "source": [
    "### 0.4 セッションの再起動"
   ]
  },
  {
   "cell_type": "code",
   "execution_count": null,
   "id": "b8b3b632",
   "metadata": {
    "id": "b8b3b632"
   },
   "outputs": [],
   "source": [
    "import os\n",
    "os.kill(os.getpid(), 9)"
   ]
  },
  {
   "cell_type": "markdown",
   "id": "6b9729aa",
   "metadata": {},
   "source": [
    "セッションの再起動後は,以下のセルから実行してください. **注意: これより前のセルを再度実行する必要はありません!**"
   ]
  },
  {
   "cell_type": "markdown",
   "id": "f087f767",
   "metadata": {},
   "source": [
    "---"
   ]
  },
  {
   "cell_type": "markdown",
   "id": "6856b1df",
   "metadata": {},
   "source": [
    "### 0.5 辞書登録"
   ]
  },
  {
   "cell_type": "markdown",
   "id": "0f511bd1",
   "metadata": {},
   "source": [
    "追加したい形態素の情報を CSV ファイル(user_dic.csv)に追記する"
   ]
  },
  {
   "cell_type": "code",
   "execution_count": null,
   "id": "064d429f",
   "metadata": {},
   "outputs": [],
   "source": [
    "!echo '\"泉質\",-1,-1,1,名詞,一般,*,*,*,*,泉質,センシツ,センシツ,USER\"' >> ./tools/usr/local/lib/mecab/dic/ipadic/user_dic.csv\n",
    "!echo '\"海鮮丼\",-1,-1,1,名詞,一般,*,*,*,*,海鮮丼,カイセンドン,カイセンドン,USER\"' >> ./tools/usr/local/lib/mecab/dic/ipadic/user_dic.csv\n",
    "!echo '\"スカイツリー\",-1,-1,1,名詞,一般,*,*,*,*,スカイツリー,スカイツリー,スカイツリー,USER\"' >> ./tools/usr/local/lib/mecab/dic/ipadic/user_dic.csv\n",
    "!echo '\"バスタオル\",-1,-1,1,名詞,一般,*,*,*,*,バスタオル,バスタオル,バスタオル,USER\"' >> ./tools/usr/local/lib/mecab/dic/ipadic/user_dic.csv\n",
    "!cat ./tools/usr/local/lib/mecab/dic/ipadic/user_dic.csv"
   ]
  },
  {
   "cell_type": "markdown",
   "id": "0b02ffcc",
   "metadata": {},
   "source": [
    "CSVファイル(user_dic.csv)をコンパイルして辞書(user.dic)を作成する"
   ]
  },
  {
   "cell_type": "code",
   "execution_count": null,
   "id": "75e81c73",
   "metadata": {},
   "outputs": [],
   "source": [
    "!./tools/usr/local/libexec/mecab/mecab-dict-index \\\n",
    "-d ./tools/usr/local/lib/mecab/dic/ipadic \\\n",
    "-u ./tools/usr/local/lib/mecab/dic/ipadic/user.dic \\\n",
    "-f utf-8 -t utf-8 \\\n",
    "./tools/usr/local/lib/mecab/dic/ipadic/user_dic.csv"
   ]
  },
  {
   "cell_type": "markdown",
   "id": "09efeabe",
   "metadata": {
    "id": "09efeabe"
   },
   "source": [
    "### 0.6 確認"
   ]
  },
  {
   "cell_type": "code",
   "execution_count": null,
   "id": "1b0c574d",
   "metadata": {
    "colab": {
     "base_uri": "https://localhost:8080/"
    },
    "id": "1b0c574d",
    "outputId": "0d2d8e7e-a00a-4dbd-d9e9-a7df4623e41f"
   },
   "outputs": [],
   "source": [
    "import MeCab\n",
    "tagger = MeCab.Tagger(\"-r ./tools/usr/local/etc/mecabrc\")\n",
    "\n",
    "print(tagger.parse(\"この泉質は極上です\"))\n",
    "print(tagger.parse(\"この海鮮丼は美味しいです\"))\n",
    "print(tagger.parse(\"近くにスカイツリーがあります\"))\n",
    "print(tagger.parse(\"浴室にバスタオルがありません\"))"
   ]
  },
  {
   "cell_type": "code",
   "execution_count": null,
   "id": "208f2ded",
   "metadata": {
    "colab": {
     "base_uri": "https://localhost:8080/"
    },
    "id": "208f2ded",
    "outputId": "c3346fcb-48d4-4b24-d6c3-53b879c63de4"
   },
   "outputs": [],
   "source": [
    "import CaboCha\n",
    "\n",
    "cp = CaboCha.Parser(\"-r ./tools/usr/local/etc/cabocharc\")\n",
    "print(cp.parse(\"この泉質は極上です\").toString(CaboCha.FORMAT_LATTICE))\n",
    "print(cp.parse(\"この海鮮丼は美味しいです\").toString(CaboCha.FORMAT_LATTICE))\n",
    "print(cp.parse(\"近くにスカイツリーがあります\").toString(CaboCha.FORMAT_LATTICE))\n",
    "print(cp.parse(\"浴室にバスタオルがありません\").toString(CaboCha.FORMAT_LATTICE))"
   ]
  },
  {
   "cell_type": "markdown",
   "id": "51fbbf27",
   "metadata": {
    "id": "51fbbf27"
   },
   "source": [
    "---"
   ]
  },
  {
   "cell_type": "markdown",
   "id": "647bd5b1-64b2-4113-90c7-f31684ed2860",
   "metadata": {
    "id": "647bd5b1-64b2-4113-90c7-f31684ed2860"
   },
   "source": [
    "## 1. テキスト解析 (2)\n",
    "### KHCoder のテキスト解析&分析"
   ]
  },
  {
   "cell_type": "markdown",
   "id": "7fb0ca9d",
   "metadata": {
    "id": "7fb0ca9d"
   },
   "source": [
    "### 1.0 事前準備 (定義済み関数の読み込み)"
   ]
  },
  {
   "cell_type": "markdown",
   "id": "320ee7c5-a814-455c-93ca-b4989fbd6f68",
   "metadata": {
    "id": "320ee7c5-a814-455c-93ca-b4989fbd6f68"
   },
   "source": [
    "以下のセルを**修正せず**に実行してください"
   ]
  },
  {
   "cell_type": "code",
   "execution_count": null,
   "id": "d0c9e369",
   "metadata": {},
   "outputs": [],
   "source": [
    "%load_ext autoreload\n",
    "%autoreload 2\n",
    "\n",
    "import os\n",
    "import random\n",
    "import numpy as np\n",
    "\n",
    "# 再現性のために乱数を固定する\n",
    "seed = 42\n",
    "os.environ['PYTHONHASHSEED'] = str(seed)\n",
    "np.random.seed(seed)\n",
    "random.seed(seed)\n",
    "\n",
    "# 定義済み関数をインポートする\n",
    "import warnings\n",
    "warnings.simplefilter('ignore')\n",
    "\n",
    "import gssm_utils"
   ]
  },
  {
   "cell_type": "markdown",
   "id": "3ffa2dec-da82-4b61-a10d-d00aad109f41",
   "metadata": {
    "id": "3ffa2dec-da82-4b61-a10d-d00aad109f41"
   },
   "source": [
    "### 1.1 データのダウンロード"
   ]
  },
  {
   "cell_type": "markdown",
   "id": "3ea1c51f-947e-49aa-a71f-9ab3185e06fa",
   "metadata": {
    "id": "3ea1c51f-947e-49aa-a71f-9ab3185e06fa"
   },
   "source": [
    "以下のデータがダウンロード済みです"
   ]
  },
  {
   "cell_type": "markdown",
   "id": "c5781ca4",
   "metadata": {
    "id": "c5781ca4"
   },
   "source": [
    "| ファイル名 | 件数 | データセット | 備考 |\n",
    "| --- | --- | --- | --- |\n",
    "| rakuten-1000-2024-2025.xlsx.zip | 10,000 | •レジャー+ビジネスの 10エリア<br>•エリアごと 1,000件 (ランダムサンプリング)<br>•期間: 2024/1~2025 GW明け | 本講義の全体を通して使用する |"
   ]
  },
  {
   "cell_type": "code",
   "execution_count": null,
   "id": "614d4536-de4f-4cd7-b6ce-e1ed5e60bd45",
   "metadata": {
    "colab": {
     "base_uri": "https://localhost:8080/"
    },
    "id": "614d4536-de4f-4cd7-b6ce-e1ed5e60bd45",
    "outputId": "9e015083-1849-4cca-f222-1caf9d60568e",
    "tags": []
   },
   "outputs": [],
   "source": [
    "# rakuten-1000-2024-2025.xlsx.zip をダウンロードする\n",
    "FILE_ID = \"1yKabZ7qJMRrIrP4Vtq-RrSZAqFsZriQS\"\n",
    "!gdown {FILE_ID}\n",
    "!unzip -o rakuten-1000-2024-2025.xlsx.zip"
   ]
  },
  {
   "cell_type": "markdown",
   "id": "bc9daa65-996b-4c16-bfc6-5e8de843291c",
   "metadata": {
    "id": "bc9daa65-996b-4c16-bfc6-5e8de843291c",
    "tags": []
   },
   "source": [
    "### 1.2 データの読み込み (DataFrame型)"
   ]
  },
  {
   "cell_type": "code",
   "execution_count": null,
   "id": "71bd612f-4a36-40ef-9685-c4898fafd177",
   "metadata": {
    "colab": {
     "base_uri": "https://localhost:8080/",
     "height": 346
    },
    "id": "71bd612f-4a36-40ef-9685-c4898fafd177",
    "outputId": "db59c8bc-1256-415c-d41e-73750375b378",
    "tags": []
   },
   "outputs": [],
   "source": [
    "import numpy as np\n",
    "import pandas as pd\n",
    "\n",
    "all_df = pd.read_excel(\"rakuten-1000-2024-2025.xlsx\")\n",
    "print(all_df.shape)\n",
    "display(all_df.head())"
   ]
  },
  {
   "cell_type": "markdown",
   "id": "45dc5bee-fefd-4fe5-98e2-eee3d7965ab3",
   "metadata": {
    "id": "45dc5bee-fefd-4fe5-98e2-eee3d7965ab3"
   },
   "source": [
    "### 1.3 「文書-抽出語」表 を作成する"
   ]
  },
  {
   "cell_type": "markdown",
   "id": "a217a28a-284e-41a1-b981-ff59d3ed3a36",
   "metadata": {
    "id": "a217a28a-284e-41a1-b981-ff59d3ed3a36"
   },
   "source": [
    "コメント列から単語を抽出する (単語を品詞「名詞」「形容詞」「未知語」で絞り込む)"
   ]
  },
  {
   "cell_type": "code",
   "execution_count": null,
   "id": "2849575f-a94e-4805-b411-cdfc7d76dcc7",
   "metadata": {
    "colab": {
     "base_uri": "https://localhost:8080/",
     "height": 225
    },
    "id": "2849575f-a94e-4805-b411-cdfc7d76dcc7",
    "outputId": "6bc219eb-568f-436c-fa00-1c8b8da5fc34",
    "tags": []
   },
   "outputs": [],
   "source": [
    "# 必要ライブラリのインポート\n",
    "from collections import defaultdict\n",
    "import MeCab\n",
    "\n",
    "# mecab の初期化\n",
    "tagger = MeCab.Tagger(\"-r ./tools/usr/local/etc/mecabrc --unk-feature 未知語\")\n",
    "\n",
    "# 単語頻度辞書の初期化\n",
    "word_counts = defaultdict(lambda: 0)\n",
    "\n",
    "# 抽出語情報リストの初期化\n",
    "words = []\n",
    "\n",
    "# 半角->全角変換マクロを定義する\n",
    "ZEN = \"\".join(chr(0xff01 + i) for i in range(94))\n",
    "HAN = \"\".join(chr(0x21 + i) for i in range(94))\n",
    "HAN2ZEN = str.maketrans(HAN, ZEN)\n",
    "\n",
    "# ストップワードを定義する\n",
    "stopwords =  [\"する\", \"それ\", \"なる\", \"ない\", \"そこ\", \"これ\" ,\"ある\"]\n",
    "stopwords += [\"湯畑\"]\n",
    "\n",
    "# データ1行ごとのループ\n",
    "for index, row in all_df.iterrows():\n",
    "\n",
    "    # 半角->全角変換した後で, mecab で解析する\n",
    "    node = tagger.parseToNode(row[\"コメント\"].translate(HAN2ZEN))\n",
    "\n",
    "    # 形態素ごとのループ\n",
    "    while node:\n",
    "        # 解析結果を要素ごとにバラす\n",
    "        features = node.feature.split(',')\n",
    "\n",
    "        # 品詞1 を取り出す\n",
    "        pos1 = features[0]\n",
    "\n",
    "        # 品詞2 を取り出す\n",
    "        pos2 = features[1] if len(features) > 1 else \"\"\n",
    "\n",
    "        # 原形 を取り出す\n",
    "        base = features[6] if len(features) > 6 else None\n",
    "\n",
    "        # 原型がストップワードに含まれない単語のみ抽出する\n",
    "        if base not in stopwords:\n",
    "\n",
    "            # 「名詞-一般」\n",
    "            if (pos1 == \"名詞\" and pos2 == \"一般\"):\n",
    "                base = base if base is not None else node.surface\n",
    "                postag = \"名詞\"\n",
    "                key = (base, postag)\n",
    "\n",
    "                # 単語頻度辞書をカウントアップする\n",
    "                word_counts[key] += 1\n",
    "\n",
    "                # 抽出語情報をリストに追加する\n",
    "                words.append([index + 1, base, postag, row[\"カテゴリー\"], row[\"エリア\"], key])\n",
    "\n",
    "            # 「形容動詞」\n",
    "            elif (pos1 == \"名詞\" and pos2 == \"形容動詞語幹\"):\n",
    "                base = base if base is not None else node.surface\n",
    "                base = f\"{base}だ\"\n",
    "                postag = \"形容動詞\"\n",
    "                key = (base, postag)\n",
    "\n",
    "                # 単語頻度辞書をカウントアップする\n",
    "                word_counts[key] += 1\n",
    "\n",
    "                # 抽出語情報をリストに追加する\n",
    "                words.append([index + 1, base, postag, row[\"カテゴリー\"], row[\"エリア\"], key])\n",
    "\n",
    "            # 「形容詞」\n",
    "            elif pos1 == \"形容詞\":\n",
    "                base = base if base is not None else node.surface\n",
    "                postag = \"形容詞\"\n",
    "                key = (base, postag)\n",
    "\n",
    "                # 単語頻度辞書をカウントアップする\n",
    "                word_counts[key] += 1\n",
    "\n",
    "                # 抽出語情報をリストに追加する\n",
    "                words.append([index + 1, base, postag, row[\"カテゴリー\"], row[\"エリア\"], key])\n",
    "\n",
    "            # 「未知語」\n",
    "            elif pos1 == \"未知語\":\n",
    "                base = base if base is not None else node.surface\n",
    "                postag = \"未知語\"\n",
    "                key = (base, postag)\n",
    "\n",
    "                # 単語頻度辞書をカウントアップする\n",
    "                word_counts[key] += 1\n",
    "\n",
    "                # 抽出語情報をリストに追加する\n",
    "                words.append([index + 1, base, postag, row[\"カテゴリー\"], row[\"エリア\"], key])\n",
    "\n",
    "        # 次の形態素へ\n",
    "        node = node.next\n",
    "\n",
    "# DataFrme 型に整える\n",
    "columns = [\n",
    "    \"文書ID\",\n",
    "    # \"単語ID\",\n",
    "    \"表層\",\n",
    "    \"品詞\",\n",
    "    \"カテゴリー\",\n",
    "    \"エリア\",\n",
    "    \"dict_key\",\n",
    "]\n",
    "docs_df = pd.DataFrame(words, columns=columns)\n",
    "\n",
    "# DataFrame を表示する\n",
    "print(docs_df.shape)\n",
    "display(docs_df.head())"
   ]
  },
  {
   "cell_type": "markdown",
   "id": "e9a03c6f-1a67-4e96-a78f-ec471d4098d5",
   "metadata": {
    "id": "e9a03c6f-1a67-4e96-a78f-ec471d4098d5"
   },
   "source": [
    "抽出語の出現頻度をカウントする"
   ]
  },
  {
   "cell_type": "code",
   "execution_count": null,
   "id": "ca5bed21-5e42-4f00-8bc9-32ed5b0a5a50",
   "metadata": {
    "colab": {
     "base_uri": "https://localhost:8080/",
     "height": 381
    },
    "id": "ca5bed21-5e42-4f00-8bc9-32ed5b0a5a50",
    "outputId": "4eb4b540-11ac-4295-c073-7ff9eb8d9a3b",
    "tags": []
   },
   "outputs": [],
   "source": [
    "# 「文書-抽出語」 表から単語の出現回数をカウントする\n",
    "word_list = []\n",
    "for i, (k, v) in enumerate(sorted(word_counts.items(), key=lambda x:x[1], reverse=True)):\n",
    "    word_list.append((i, k[0], v, k))\n",
    "\n",
    "# DataFrame 型に整える\n",
    "columns = [\n",
    "    \"単語ID\",\n",
    "    \"表層\",\n",
    "    \"出現頻度\",\n",
    "    \"dict_key\"\n",
    "]\n",
    "\n",
    "# DataFrame を表示する\n",
    "word_counts_df = pd.DataFrame(word_list, columns=columns)\n",
    "print(word_counts_df.shape)\n",
    "display(word_counts_df.head(10))"
   ]
  },
  {
   "cell_type": "markdown",
   "id": "bb7146cc",
   "metadata": {
    "id": "bb7146cc"
   },
   "source": [
    "単語IDを紐つける (出現回数 Top 150語のみ抽出する)"
   ]
  },
  {
   "cell_type": "code",
   "execution_count": null,
   "id": "9127684b-da31-4a70-ab00-8900f3ffed27",
   "metadata": {
    "colab": {
     "base_uri": "https://localhost:8080/",
     "height": 424
    },
    "id": "9127684b-da31-4a70-ab00-8900f3ffed27",
    "outputId": "7e855fbd-5fe7-48a8-e8f9-246a21889e91",
    "tags": []
   },
   "outputs": [],
   "source": [
    "# 「単語出現回数」 表から出現回数Top 150語のみ抽出する\n",
    "word_counts_150_df = word_counts_df[0:150]\n",
    "\n",
    "# 「文書-抽出語」 表も出現回数Top 150語のみに絞り込む\n",
    "merged_df = pd.merge(docs_df, word_counts_150_df, how=\"inner\", on=\"dict_key\", suffixes=[\"\", \"_right\"])\n",
    "docs_150_df = merged_df[[\"文書ID\", \"単語ID\", \"表層\", \"品詞\", \"カテゴリー\", \"エリア\", \"dict_key\"]]\n",
    "\n",
    "# DataFrame を表示する\n",
    "# print(docs_150_df.shape)\n",
    "display(docs_150_df)"
   ]
  },
  {
   "cell_type": "markdown",
   "id": "d01f9543",
   "metadata": {
    "id": "d01f9543"
   },
   "source": [
    "「文書-抽出語」表 を作成する"
   ]
  },
  {
   "cell_type": "code",
   "execution_count": null,
   "id": "6e9780cb",
   "metadata": {
    "colab": {
     "base_uri": "https://localhost:8080/",
     "height": 473
    },
    "id": "6e9780cb",
    "outputId": "106138d8-2c0b-4c17-866b-9de71f7ca3c4"
   },
   "outputs": [],
   "source": [
    "# 「単語出現回数」 表から出現回数Top 75語のみ抽出する\n",
    "word_counts_75_df = word_counts_df[0:75]\n",
    "\n",
    "# 「文書-抽出語」 表も出現回数Top 75語のみに絞り込む\n",
    "merged_df = pd.merge(docs_df, word_counts_75_df, how=\"inner\", on=\"dict_key\", suffixes=[\"\", \"_right\"])\n",
    "docs_75_df = merged_df[[\"文書ID\", \"単語ID\", \"表層\", \"品詞\", \"カテゴリー\", \"エリア\", \"dict_key\"]]\n",
    "\n",
    "# 「カテゴリー,エリア」でクロス集計する\n",
    "cross_75_df = pd.crosstab(\n",
    "    [\n",
    "        docs_75_df['カテゴリー'],\n",
    "        docs_75_df['エリア'],\n",
    "        docs_75_df['文書ID']\n",
    "    ],\n",
    "    docs_75_df['単語ID'], margins=False\n",
    ")\n",
    "cross_75_df.columns = word_counts_75_df[\"表層\"]\n",
    "\n",
    "# DataFrame を表示する\n",
    "print(cross_75_df.shape)\n",
    "display(cross_75_df)"
   ]
  },
  {
   "cell_type": "markdown",
   "id": "40a21bd7",
   "metadata": {
    "id": "40a21bd7"
   },
   "source": [
    "「文書-抽出語」 表を {0,1} に変換する"
   ]
  },
  {
   "cell_type": "code",
   "execution_count": null,
   "id": "97f09b08",
   "metadata": {
    "colab": {
     "base_uri": "https://localhost:8080/",
     "height": 473
    },
    "id": "97f09b08",
    "outputId": "68540b1e-6acf-4f1b-8ca7-4f7dfdb80a57"
   },
   "outputs": [],
   "source": [
    "# 「文書-抽出語」 表を {0,1} に変換する\n",
    "cross_75_df[cross_75_df > 0] = 1\n",
    "\n",
    "# DataFrame を表示する\n",
    "print(cross_75_df.shape)\n",
    "display(cross_75_df)"
   ]
  },
  {
   "cell_type": "code",
   "execution_count": null,
   "id": "3a2dc1f4",
   "metadata": {},
   "outputs": [],
   "source": [
    "# 「文書-抽出語」 表をファイルに出力する\n",
    "cross_75_df.to_csv(\"cross_75.tsv\", sep=\"\\t\", encoding=\"utf-8\")"
   ]
  },
  {
   "cell_type": "markdown",
   "id": "fe8c38df",
   "metadata": {
    "id": "fe8c38df"
   },
   "source": [
    "### 1.4 共起ネットワーク"
   ]
  },
  {
   "cell_type": "markdown",
   "id": "a7e9fcf4",
   "metadata": {
    "id": "a7e9fcf4"
   },
   "source": [
    "共起度行列を作成する (抽出語-抽出語)"
   ]
  },
  {
   "cell_type": "code",
   "execution_count": null,
   "id": "240ebe1d",
   "metadata": {
    "colab": {
     "base_uri": "https://localhost:8080/",
     "height": 285
    },
    "id": "240ebe1d",
    "outputId": "d05c4023-2f8b-4f5e-bfc2-c398837d1c7c"
   },
   "outputs": [],
   "source": [
    "# 必要ライブラリのインポート\n",
    "from scipy.sparse import csc_matrix\n",
    "\n",
    "# 共起行列を作成する\n",
    "X = cross_75_df.values\n",
    "X = csc_matrix(X)\n",
    "Xc = (X.T * X)\n",
    "# 対角成分のみにする\n",
    "Xc = np.triu(Xc.toarray())\n",
    "\n",
    "# DataFrame 型に整える\n",
    "cooccur_75_df = pd.DataFrame(Xc, columns=cross_75_df.columns, index=cross_75_df.columns)\n",
    "\n",
    "# DataFrame を表示する\n",
    "print(cooccur_75_df.shape)\n",
    "display(cooccur_75_df.head())"
   ]
  },
  {
   "cell_type": "code",
   "execution_count": null,
   "id": "baf5e44f",
   "metadata": {},
   "outputs": [],
   "source": [
    "# 「抽出後-抽出語」 表をファイルに出力する\n",
    "cooccur_75_df.to_csv(\"cooccur_75.tsv\", sep=\"\\t\", encoding=\"utf-8\", index=True)"
   ]
  },
  {
   "cell_type": "markdown",
   "id": "fc4e70e5",
   "metadata": {
    "id": "fc4e70e5"
   },
   "source": [
    "#### (a) 共起ネットワーク (共起度の高いエッジを残す)"
   ]
  },
  {
   "cell_type": "code",
   "execution_count": null,
   "id": "eaa653d7",
   "metadata": {
    "colab": {
     "base_uri": "https://localhost:8080/",
     "height": 671
    },
    "id": "eaa653d7",
    "outputId": "47d0171c-80ee-4c95-d3ae-40e31c168e4b"
   },
   "outputs": [],
   "source": [
    "# 抽出語の出現回数(ノードの大きさ)を取得する\n",
    "word_counts = cross_75_df.sum(axis=0).values\n",
    "\n",
    "# 共起行列(共起度)で共起ネットワーク図を作成する\n",
    "gssm_utils.plot_cooccur_network(cooccur_75_df, word_counts, cooccur_75_df.values.max() * 0.05)"
   ]
  },
  {
   "cell_type": "markdown",
   "id": "50c11eab",
   "metadata": {
    "id": "50c11eab"
   },
   "source": [
    "#### (b) 共起ネットワーク (Jaccard 係数が上位のエッジを残す)"
   ]
  },
  {
   "cell_type": "code",
   "execution_count": null,
   "id": "266589c4",
   "metadata": {
    "colab": {
     "base_uri": "https://localhost:8080/",
     "height": 1000
    },
    "id": "266589c4",
    "outputId": "8e5cc0db-dc5a-486a-f7cb-019fdf91828f"
   },
   "outputs": [],
   "source": [
    "# 共起行列の中身を Jaccard 係数に入れ替える\n",
    "jaccard_75_df = gssm_utils.jaccard_coef(cooccur_75_df, cross_75_df)\n",
    "\n",
    "# 抽出語の出現回数(ノードの大きさ)を取得する\n",
    "word_counts = cross_75_df.sum(axis=0).values\n",
    "\n",
    "# 共起行列(Jaccard係数)で共起ネットワーク図を作成する\n",
    "gssm_utils.plot_cooccur_network(jaccard_75_df, word_counts, np.sort(jaccard_75_df.values.reshape(-1))[::-1][60], pyvis=True)"
   ]
  },
  {
   "cell_type": "markdown",
   "id": "416e8170",
   "metadata": {
    "id": "416e8170"
   },
   "source": [
    "### 1.5 対応分析"
   ]
  },
  {
   "cell_type": "markdown",
   "id": "9a3cbebf-a89c-4685-9d79-db4ffe6ad50d",
   "metadata": {
    "id": "9a3cbebf-a89c-4685-9d79-db4ffe6ad50d"
   },
   "source": [
    "「文書-抽出語」 表を確認する"
   ]
  },
  {
   "cell_type": "code",
   "execution_count": null,
   "id": "24ab4af0",
   "metadata": {
    "colab": {
     "base_uri": "https://localhost:8080/",
     "height": 285
    },
    "id": "24ab4af0",
    "outputId": "09e37669-1c43-42f0-c6a9-678be6d81a4e"
   },
   "outputs": [],
   "source": [
    "# DataFrame を表示する\n",
    "print(cross_75_df.shape)\n",
    "display(cross_75_df.head())"
   ]
  },
  {
   "cell_type": "markdown",
   "id": "359c8727",
   "metadata": {
    "id": "359c8727"
   },
   "source": [
    "「外部変数-抽出語」 クロス集計表を作成する"
   ]
  },
  {
   "cell_type": "code",
   "execution_count": null,
   "id": "3fb120f3",
   "metadata": {
    "colab": {
     "base_uri": "https://localhost:8080/",
     "height": 473
    },
    "id": "3fb120f3",
    "outputId": "b48b9c46-7b53-4ff1-bf8c-c09cb1bcc4ed"
   },
   "outputs": [],
   "source": [
    "# 「カテゴリー」のクロス集計と「エリア」のクロス集計を連結する\n",
    "aggregate_75_df = pd.concat(\n",
    "    [\n",
    "        cross_75_df.groupby(level='カテゴリー').sum(),\n",
    "        cross_75_df.groupby(level='エリア').sum()\n",
    "    ]\n",
    ")\n",
    "\n",
    "# DataFrame を表示する\n",
    "print(aggregate_75_df.shape)\n",
    "display(aggregate_75_df)"
   ]
  },
  {
   "cell_type": "code",
   "execution_count": null,
   "id": "e837850e",
   "metadata": {},
   "outputs": [],
   "source": [
    "# 「外部変数-抽出語」 表をファイルに出力する\n",
    "aggregate_75_df.to_csv(\"aggregate_75.tsv\", sep=\"\\t\", encoding=\"utf-8\", index=True)"
   ]
  },
  {
   "cell_type": "markdown",
   "id": "72377b8a",
   "metadata": {
    "id": "72377b8a"
   },
   "source": [
    "#### (a) 対応分析プロット (ライブラリ mca を使用)"
   ]
  },
  {
   "cell_type": "code",
   "execution_count": null,
   "id": "4195d635",
   "metadata": {
    "colab": {
     "base_uri": "https://localhost:8080/",
     "height": 694
    },
    "id": "4195d635",
    "outputId": "6f941419-2a3b-45a5-a984-0e56555ce02d"
   },
   "outputs": [],
   "source": [
    "# 必要ライブラリのインポート\n",
    "import mca\n",
    "\n",
    "# ライブラリ mca による対応分析\n",
    "ncols = aggregate_75_df.shape[1]\n",
    "mca_ben = mca.MCA(aggregate_75_df, ncols=ncols, benzecri=False)\n",
    "\n",
    "# 行方向および列方向の値を取り出す\n",
    "row_coord = mca_ben.fs_r(N=2)\n",
    "col_coord = mca_ben.fs_c(N=2)\n",
    "\n",
    "# 固有値を求める\n",
    "eigenvalues = mca_ben.L\n",
    "total = np.sum(eigenvalues)\n",
    "# 寄与率を求める\n",
    "explained_inertia = 100 * eigenvalues / total\n",
    "\n",
    "# 行方向および列方向のラベルを取得する\n",
    "row_labels = aggregate_75_df.index\n",
    "col_labels = aggregate_75_df.columns\n",
    "\n",
    "# プロットする\n",
    "gssm_utils.plot_coresp(row_coord, col_coord,row_labels, col_labels, explained_inertia)"
   ]
  },
  {
   "cell_type": "markdown",
   "id": "9326f895",
   "metadata": {
    "id": "9326f895"
   },
   "source": [
    "#### (b) 対応分析プロット (カイ2乗値を手計算してプロットする)"
   ]
  },
  {
   "cell_type": "code",
   "execution_count": null,
   "id": "4e80e27b",
   "metadata": {
    "colab": {
     "base_uri": "https://localhost:8080/",
     "height": 694
    },
    "id": "4e80e27b",
    "outputId": "7804b92c-f3fa-4c4a-84dc-000ff97bef6b"
   },
   "outputs": [],
   "source": [
    "table_N = aggregate_75_df.values\n",
    "row_sum = table_N.sum(axis=1)\n",
    "col_sum = table_N.sum(axis=0)\n",
    "n = aggregate_75_df.values.sum()\n",
    "\n",
    "# カイ2乗値を求める\n",
    "expected = np.outer(row_sum, col_sum) / n\n",
    "chisq = np.square(table_N - expected) / expected\n",
    "residuals = (table_N - expected) / np.sqrt(expected)\n",
    "\n",
    "# Standardized residuals\n",
    "residuals = residuals / np.sqrt(n)\n",
    "\n",
    "# Number of dimensions\n",
    "nb_axes = min(residuals.shape[0]-1, residuals.shape[1]-1)\n",
    "\n",
    "# Singular value decomposition\n",
    "U, s, V = np.linalg.svd(residuals, full_matrices=True)\n",
    "sv = s[:nb_axes]\n",
    "u = U[:, :nb_axes]\n",
    "v = V[:nb_axes, :]\n",
    "\n",
    "# row mass\n",
    "row_mass = row_sum / n\n",
    "\n",
    "# row coord = u * sv /sqrt(row.mass)\n",
    "row_coord = (u * sv) / np.sqrt(row_mass)[:, np.newaxis]\n",
    "\n",
    "# col mass\n",
    "col_mass = col_sum / n\n",
    "\n",
    "# row coord = sv * vT /sqrt(col.mass)\n",
    "col_coord = (sv * v.T) / np.sqrt(col_mass)[:, np.newaxis]\n",
    "\n",
    "# 固有値を求める\n",
    "eige_nvalue = s ** 2\n",
    "\n",
    "# 寄与率を求める\n",
    "explained_inertia = 100 * eige_nvalue / sum(eige_nvalue)\n",
    "\n",
    "# 行方向および列方向のラベルを取得する\n",
    "row_labels = aggregate_75_df.index\n",
    "col_labels = aggregate_75_df.columns\n",
    "\n",
    "# プロットする\n",
    "gssm_utils.plot_coresp(row_coord, col_coord,row_labels, col_labels, explained_inertia)"
   ]
  },
  {
   "cell_type": "markdown",
   "id": "6e510d6f",
   "metadata": {
    "id": "6e510d6f"
   },
   "source": [
    "#### (c) 対応分析プロット (共起頻度のままプロットする)"
   ]
  },
  {
   "cell_type": "code",
   "execution_count": null,
   "id": "1b936d1e",
   "metadata": {
    "colab": {
     "base_uri": "https://localhost:8080/",
     "height": 694
    },
    "id": "1b936d1e",
    "outputId": "5f9e654a-841a-4f5d-92ad-632534f55089"
   },
   "outputs": [],
   "source": [
    "import numpy as np\n",
    "\n",
    "table_N = aggregate_75_df.values\n",
    "table_P = table_N / aggregate_75_df.values.max()\n",
    "\n",
    "# Singular value decomposition\n",
    "U, s, V = np.linalg.svd(table_P, full_matrices=True)\n",
    "sv = s[:nb_axes]\n",
    "u = U[:, :nb_axes]\n",
    "v = V[:nb_axes, :]\n",
    "\n",
    "# row mass\n",
    "row_mass = row_sum / n\n",
    "\n",
    "# row coord = u * sv /sqrt(row.mass)\n",
    "row_coord = (u * sv) / np.sqrt(row_mass)[:, np.newaxis]\n",
    "\n",
    "# col mass\n",
    "col_mass = col_sum / n\n",
    "\n",
    "# row coord = sv * vT /sqrt(col.mass)\n",
    "col_coord = (sv * v.T) / np.sqrt(col_mass)[:, np.newaxis]\n",
    "\n",
    "# 固有値を求める\n",
    "eige_nvalue = s ** 2\n",
    "\n",
    "# 寄与率を求める\n",
    "explained_inertia = 100 * eige_nvalue / sum(eige_nvalue)\n",
    "\n",
    "# 行方向および列方向のラベルを取得する\n",
    "row_labels = aggregate_75_df.index\n",
    "col_labels = aggregate_75_df.columns\n",
    "\n",
    "# プロットする\n",
    "gssm_utils.plot_coresp(row_coord, col_coord,row_labels, col_labels, explained_inertia)"
   ]
  },
  {
   "cell_type": "markdown",
   "id": "837c3997",
   "metadata": {
    "id": "837c3997"
   },
   "source": [
    "#### (d) PCAプロット (共起頻度のままプロットする)"
   ]
  },
  {
   "cell_type": "code",
   "execution_count": null,
   "id": "4881ce32",
   "metadata": {
    "colab": {
     "base_uri": "https://localhost:8080/",
     "height": 694
    },
    "id": "4881ce32",
    "outputId": "1a63f106-87b2-47d4-8731-4ed73367f924"
   },
   "outputs": [],
   "source": [
    "# 必要ライブラリのインポート\n",
    "from sklearn.decomposition import PCA\n",
    "\n",
    "table_N = aggregate_75_df.values\n",
    "\n",
    "# ライブラリ PCA による主成分分析\n",
    "pca = PCA()\n",
    "\n",
    "reduced = pca.fit_transform(table_N.T)\n",
    "coeff = np.transpose(pca.components_)\n",
    "var_ratio = pca.explained_variance_ratio_\n",
    "\n",
    "scalex = 1.0 / (reduced[:,0].max() - reduced[:,0].min())\n",
    "scaley = 1.0 / (reduced[:,1].max() - reduced[:,1].min())\n",
    "reduced[:,0] *= scalex\n",
    "reduced[:,1] *= scaley\n",
    "\n",
    "# プロットする\n",
    "gssm_utils.plot_pca(coeff, reduced, row_labels, col_labels, var_ratio)"
   ]
  },
  {
   "cell_type": "markdown",
   "id": "981d3e6d",
   "metadata": {
    "id": "981d3e6d"
   },
   "source": [
    "#### (e) PCAプロット (カイ2乗値をプロットする)"
   ]
  },
  {
   "cell_type": "code",
   "execution_count": null,
   "id": "660c62be",
   "metadata": {
    "colab": {
     "base_uri": "https://localhost:8080/",
     "height": 698
    },
    "id": "660c62be",
    "outputId": "7f03582f-75c5-4636-9288-561e4210bf4c"
   },
   "outputs": [],
   "source": [
    "# 必要ライブラリのインポート\n",
    "from sklearn.decomposition import PCA\n",
    "\n",
    "import numpy as np\n",
    "\n",
    "table_N = aggregate_75_df.values\n",
    "row_sum = table_N.sum(axis=1)\n",
    "col_sum = table_N.sum(axis=0)\n",
    "n = aggregate_75_df.values.sum()\n",
    "\n",
    "# カイ2乗値を求める\n",
    "expected = np.outer(row_sum, col_sum) / n\n",
    "chisq = np.square(table_N - expected) / expected\n",
    "residuals = (table_N - expected) / np.sqrt(expected)\n",
    "\n",
    "# Standardized residuals\n",
    "residuals = residuals / np.sqrt(n)\n",
    "\n",
    "# ライブラリ PCA による主成分分析\n",
    "pca = PCA()\n",
    "\n",
    "reduced = pca.fit_transform(residuals.T)\n",
    "coeff = np.transpose(pca.components_)\n",
    "var_ratio = pca.explained_variance_ratio_\n",
    "\n",
    "scalex = 1.0 / (reduced[:,0].max() - reduced[:,0].min())\n",
    "scaley = 1.0 / (reduced[:,1].max() - reduced[:,1].min())\n",
    "reduced[:,0] *= scalex\n",
    "reduced[:,1] *= scaley\n",
    "\n",
    "# プロットする\n",
    "gssm_utils.plot_pca(coeff, reduced, row_labels, col_labels, var_ratio)"
   ]
  },
  {
   "cell_type": "markdown",
   "id": "75393415-d02b-4c1c-bd74-7ed033bf3c47",
   "metadata": {
    "id": "75393415-d02b-4c1c-bd74-7ed033bf3c47"
   },
   "source": [
    "---"
   ]
  },
  {
   "cell_type": "markdown",
   "id": "880a8208",
   "metadata": {
    "id": "880a8208"
   },
   "source": [
    "## 【演習】 2022~2023 データセット"
   ]
  },
  {
   "cell_type": "markdown",
   "id": "db73a214",
   "metadata": {
    "id": "db73a214"
   },
   "source": [
    "### 2.0 【演習】 事前準備 (定義済み関数の読み込み)"
   ]
  },
  {
   "cell_type": "markdown",
   "id": "54bc5004",
   "metadata": {
    "id": "54bc5004"
   },
   "source": [
    "以下のセルを**修正せず**に実行してください"
   ]
  },
  {
   "cell_type": "code",
   "execution_count": null,
   "id": "022e3995",
   "metadata": {
    "id": "022e3995"
   },
   "outputs": [],
   "source": [
    "import warnings\n",
    "warnings.simplefilter('ignore')\n",
    "\n",
    "import gssm_utils"
   ]
  },
  {
   "cell_type": "markdown",
   "id": "8365eb1c",
   "metadata": {
    "id": "8365eb1c"
   },
   "source": [
    "### 2.1 【演習】 データのダウンロード"
   ]
  },
  {
   "cell_type": "markdown",
   "id": "d764d0d3",
   "metadata": {
    "id": "d764d0d3"
   },
   "source": [
    "以下のデータがダウンロード済みです"
   ]
  },
  {
   "cell_type": "markdown",
   "id": "68c18ebe",
   "metadata": {
    "id": "68c18ebe"
   },
   "source": [
    "| ファイル名 | 件数 | データセット | 備考 |\n",
    "| --- | --- | --- | --- |\n",
    "| rakuten-1000-2022-2023.xlsx.zip | 10,000 | •レジャー+ビジネスの 10エリア<br>•エリアごと 1,000件 (ランダムサンプリング)<br>•期間: 2022/1~2023/12 | 演習用 (年度で比較する場合など) |"
   ]
  },
  {
   "cell_type": "code",
   "execution_count": null,
   "id": "0fb9295c",
   "metadata": {
    "colab": {
     "base_uri": "https://localhost:8080/"
    },
    "id": "0fb9295c",
    "outputId": "072a7b98-3a28-40ca-9c16-9bcba1121681"
   },
   "outputs": [],
   "source": [
    "# rakuten-1000-2022-2023.xlsx.zip をダウンロードする\n",
    "FILE_ID = \"13aWgWvDKpz8lGHEDQ7Z7Svitr3TF3Cs9\"\n",
    "!gdown {FILE_ID}\n",
    "!unzip -o rakuten-1000-2022-2023.xlsx.zip"
   ]
  },
  {
   "cell_type": "markdown",
   "id": "43ba7790",
   "metadata": {
    "id": "43ba7790"
   },
   "source": [
    "### 2.2 【演習】 データの読み込み (DataFrame型)"
   ]
  },
  {
   "cell_type": "code",
   "execution_count": null,
   "id": "ab52362f",
   "metadata": {
    "colab": {
     "base_uri": "https://localhost:8080/",
     "height": 329
    },
    "id": "ab52362f",
    "outputId": "82f619b9-5822-4f97-a960-bd8691339339"
   },
   "outputs": [],
   "source": [
    "import numpy as np\n",
    "import pandas as pd\n",
    "\n",
    "all_df = pd.read_excel(\"rakuten-1000-2022-2023.xlsx\")\n",
    "print(all_df.shape)\n",
    "display(all_df.head())"
   ]
  },
  {
   "cell_type": "markdown",
   "id": "2c9a619e",
   "metadata": {
    "id": "2c9a619e"
   },
   "source": [
    "### 2.3 【演習】 「文書-抽出語」表 を作成する"
   ]
  },
  {
   "cell_type": "markdown",
   "id": "b3def5e2",
   "metadata": {
    "id": "b3def5e2"
   },
   "source": [
    "コメント列から単語を抽出する (単語を品詞「名詞」「形容詞」「未知語」で絞り込む)"
   ]
  },
  {
   "cell_type": "code",
   "execution_count": null,
   "id": "0d1e27fa",
   "metadata": {
    "id": "0d1e27fa"
   },
   "outputs": [],
   "source": [
    "# ToDo: 1.3 の該当コードをコピーして貼り付けて実行してください"
   ]
  },
  {
   "cell_type": "markdown",
   "id": "7356eb92",
   "metadata": {
    "id": "7356eb92"
   },
   "source": [
    "抽出語の出現頻度をカウントする"
   ]
  },
  {
   "cell_type": "code",
   "execution_count": null,
   "id": "b17e579c",
   "metadata": {
    "id": "b17e579c"
   },
   "outputs": [],
   "source": [
    "# ToDo: 1.3 の該当コードをコピーして貼り付けて実行してください"
   ]
  },
  {
   "cell_type": "markdown",
   "id": "0e4961e9",
   "metadata": {
    "id": "0e4961e9"
   },
   "source": [
    "単語IDを紐つける (出現回数 Top 150語のみ抽出する)"
   ]
  },
  {
   "cell_type": "code",
   "execution_count": null,
   "id": "72096d6d",
   "metadata": {
    "id": "72096d6d"
   },
   "outputs": [],
   "source": [
    "# ToDo: 1.3 の該当コードをコピーして貼り付けて実行してください"
   ]
  },
  {
   "cell_type": "markdown",
   "id": "7bb8335b",
   "metadata": {
    "id": "7bb8335b"
   },
   "source": [
    "「文書-抽出語」表 を作成する"
   ]
  },
  {
   "cell_type": "code",
   "execution_count": null,
   "id": "1ffff0ac",
   "metadata": {
    "id": "1ffff0ac"
   },
   "outputs": [],
   "source": [
    "# ToDo: 1.3 の該当コードをコピーして貼り付けて実行してください"
   ]
  },
  {
   "cell_type": "markdown",
   "id": "1be03978",
   "metadata": {
    "id": "1be03978"
   },
   "source": [
    "「文書-抽出語」 表を {0,1} に変換する"
   ]
  },
  {
   "cell_type": "code",
   "execution_count": null,
   "id": "8f2a2738",
   "metadata": {
    "id": "8f2a2738"
   },
   "outputs": [],
   "source": [
    "# ToDo: 1.3 の該当コードをコピーして貼り付けて実行してください"
   ]
  },
  {
   "cell_type": "markdown",
   "id": "4670c57d",
   "metadata": {
    "id": "4670c57d"
   },
   "source": [
    "### 2.4 【演習】 共起ネットワーク"
   ]
  },
  {
   "cell_type": "markdown",
   "id": "e0322612",
   "metadata": {
    "id": "e0322612"
   },
   "source": [
    "共起度行列を作成する (抽出語-抽出語)"
   ]
  },
  {
   "cell_type": "code",
   "execution_count": null,
   "id": "6da9fa1b",
   "metadata": {
    "id": "6da9fa1b"
   },
   "outputs": [],
   "source": [
    "# ToDo: 1.4 の該当コードをコピーして貼り付けて実行してください"
   ]
  },
  {
   "cell_type": "markdown",
   "id": "de389ab3",
   "metadata": {
    "id": "de389ab3"
   },
   "source": [
    "#### (b) 共起ネットワーク (Jaccard 係数が上位のエッジを残す)"
   ]
  },
  {
   "cell_type": "code",
   "execution_count": null,
   "id": "656a1398",
   "metadata": {
    "id": "656a1398"
   },
   "outputs": [],
   "source": [
    "# ToDo: 1.4 (b) の該当コードをコピーして貼り付けて実行してください"
   ]
  },
  {
   "cell_type": "markdown",
   "id": "19df2985",
   "metadata": {
    "id": "19df2985"
   },
   "source": [
    "### 2.5 【演習】 対応分析"
   ]
  },
  {
   "cell_type": "markdown",
   "id": "d5c73f49",
   "metadata": {
    "id": "d5c73f49"
   },
   "source": [
    "「文書-抽出語」 表を確認する"
   ]
  },
  {
   "cell_type": "code",
   "execution_count": null,
   "id": "684267d5",
   "metadata": {
    "id": "684267d5"
   },
   "outputs": [],
   "source": [
    "# ToDo: 1.5 の該当コードをコピーして貼り付けて実行してください"
   ]
  },
  {
   "cell_type": "markdown",
   "id": "b84a06d5",
   "metadata": {
    "id": "b84a06d5"
   },
   "source": [
    "「外部変数-抽出語」 クロス集計表を作成する"
   ]
  },
  {
   "cell_type": "code",
   "execution_count": null,
   "id": "f4d9414b",
   "metadata": {
    "id": "f4d9414b"
   },
   "outputs": [],
   "source": [
    "# ToDo: 1.5 の該当コードをコピーして貼り付けて実行してください"
   ]
  },
  {
   "cell_type": "markdown",
   "id": "d707c323",
   "metadata": {
    "id": "d707c323"
   },
   "source": [
    "#### (a) 対応分析プロット (ライブラリ mca を使用)"
   ]
  },
  {
   "cell_type": "code",
   "execution_count": null,
   "id": "509e4120",
   "metadata": {
    "id": "509e4120"
   },
   "outputs": [],
   "source": [
    "# ToDo: 1.5 (a)のコードをコピーして貼り付けて実行してください"
   ]
  }
 ],
 "metadata": {
  "colab": {
   "provenance": []
  },
  "kernelspec": {
   "display_name": "01-colab",
   "language": "python",
   "name": "python3"
  },
  "language_info": {
   "codemirror_mode": {
    "name": "ipython",
    "version": 3
   },
   "file_extension": ".py",
   "mimetype": "text/x-python",
   "name": "python",
   "nbconvert_exporter": "python",
   "pygments_lexer": "ipython3",
   "version": "3.11.12"
  },
  "toc-autonumbering": false
 },
 "nbformat": 4,
 "nbformat_minor": 5
}
